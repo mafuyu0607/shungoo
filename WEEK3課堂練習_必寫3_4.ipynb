{
  "nbformat": 4,
  "nbformat_minor": 0,
  "metadata": {
    "colab": {
      "provenance": [],
      "authorship_tag": "ABX9TyMahtgoicr+/kPzEG+CPAQe",
      "include_colab_link": true
    },
    "kernelspec": {
      "name": "python3",
      "display_name": "Python 3"
    },
    "language_info": {
      "name": "python"
    }
  },
  "cells": [
    {
      "cell_type": "markdown",
      "metadata": {
        "id": "view-in-github",
        "colab_type": "text"
      },
      "source": [
        "<a href=\"https://colab.research.google.com/github/mafuyu0607/shungoo/blob/main/WEEK3%E8%AA%B2%E5%A0%82%E7%B7%B4%E7%BF%92_%E5%BF%85%E5%AF%AB3_4.ipynb\" target=\"_parent\"><img src=\"https://colab.research.google.com/assets/colab-badge.svg\" alt=\"Open In Colab\"/></a>"
      ]
    },
    {
      "cell_type": "markdown",
      "source": [
        "4.印星星(一):"
      ],
      "metadata": {
        "id": "eBMB7sLp06NI"
      }
    },
    {
      "cell_type": "code",
      "execution_count": 1,
      "metadata": {
        "colab": {
          "base_uri": "https://localhost:8080/"
        },
        "id": "vDF38I7L00pq",
        "outputId": "1a898a36-c19e-4782-9672-516b0a4b98b7"
      },
      "outputs": [
        {
          "output_type": "stream",
          "name": "stdout",
          "text": [
            "*\n",
            "**\n",
            "***\n",
            "****\n"
          ]
        }
      ],
      "source": [
        "x=1\n",
        "while x<5:\n",
        "  print(x*'*')\n",
        "  x=x+1"
      ]
    }
  ]
}