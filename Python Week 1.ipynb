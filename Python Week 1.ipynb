{
 "cells": [
  {
   "cell_type": "markdown",
   "metadata": {},
   "source": [
    "# Python Class Week 1: Variables, Expressions and Statements"
   ]
  },
  {
   "cell_type": "markdown",
   "metadata": {},
   "source": [
    "在本周的講義裡，我們要來學習Python三個非常基本的東西：\n",
    "* Variables 變數\n",
    "* Expressions 運算式\n",
    "* Statements 敘述"
   ]
  },
  {
   "cell_type": "markdown",
   "metadata": {},
   "source": [
    "## 1.1 Values（值） and types（型態）\n",
    "\n",
    "* **Value (值)**: 在程式裡面最基礎的資料，像是一個字元或是一個數字\n",
    "> 1, 2, 'Hello World'\n",
    "\n",
    "* **Type (型態)**: 所有的值都有它相應的型態：\n",
    "> 1: integer (整數), 2: integer (整數), 'Hello World': string (字串)\n",
    "\n",
    "在Python裡，如果你想要確認某個值到底是什麼樣的型態，你可以用`type(value)`這個函式來問問看："
   ]
  },
  {
   "cell_type": "code",
   "execution_count": null,
   "metadata": {},
   "outputs": [],
   "source": [
    "type('Hello World')"
   ]
  },
  {
   "cell_type": "code",
   "execution_count": null,
   "metadata": {},
   "outputs": [],
   "source": [
    "type(17)"
   ]
  },
  {
   "cell_type": "markdown",
   "metadata": {},
   "source": [
    "除了整數之外，Python另外還有一種型態，叫作**float** (浮點數)。浮點數就是帶有小數點的數字，像是 **3.5** 這種："
   ]
  },
  {
   "cell_type": "code",
   "execution_count": null,
   "metadata": {},
   "outputs": [],
   "source": [
    "type(3.5)"
   ]
  },
  {
   "cell_type": "markdown",
   "metadata": {},
   "source": [
    "要注意的是，雖然在數學上，**3**和**3.0**是等價的東西，但是在絕大多數的程式語言裡(包含Python)，3和3.0是完全不同的型態，3是整數，而3.0是浮點數，它們在電腦裡面實際上儲存的方式與計算所用的電路是完完全全不同的，愛注意。"
   ]
  },
  {
   "cell_type": "markdown",
   "metadata": {},
   "source": [
    "在Python裡面，只要是用單引號`'`或雙引號`\"`括起來的東西，Python一律會把它們視為是一連串的字元的排列，這種資料的型態我們就叫作**string (字串)**。所以以下的例子，它們都是字串！"
   ]
  },
  {
   "cell_type": "code",
   "execution_count": null,
   "metadata": {},
   "outputs": [],
   "source": [
    "type('17')"
   ]
  },
  {
   "cell_type": "code",
   "execution_count": null,
   "metadata": {},
   "outputs": [],
   "source": [
    "type(\"3.2\")"
   ]
  },
  {
   "cell_type": "markdown",
   "metadata": {},
   "source": [
    "在英語世界的習慣，數字很大的時候，時常會加上「千分位號」來幫助數字的閱讀，像是1000000時常會寫成`1,000,000`。但是在Python裡面，**數字千萬不能加上千分位號！！！**但是你如果加了，Python也不會出錯，但是它會變成一個你料想不到的東西，再也不是一個整數！"
   ]
  },
  {
   "cell_type": "code",
   "execution_count": null,
   "metadata": {},
   "outputs": [],
   "source": [
    "1,000,000"
   ]
  },
  {
   "cell_type": "code",
   "execution_count": null,
   "metadata": {},
   "outputs": [],
   "source": [
    "type((1, 0, 0))"
   ]
  },
  {
   "cell_type": "markdown",
   "metadata": {},
   "source": [
    "實際上`1,000,000`這個東西，在Python會被視為是一個擁有三個整數的序列值(tuple)，序列值第一個元素是整數1，第二與第三個元素都是整數0。"
   ]
  },
  {
   "cell_type": "markdown",
   "metadata": {},
   "source": [
    "## 1.2 Variables 變數"
   ]
  },
  {
   "cell_type": "markdown",
   "metadata": {},
   "source": [
    "* 在程式語言裡面，所謂的變數就是一個用來儲存某一個值的名稱。\n",
    "\n",
    "* 一個變數在電腦裡面，實際上是會在電腦的主記憶體裡面佔據一塊空間，我們可以在這塊空間裡面放入資料，取出資料，或是進行運算。\n",
    "\n",
    "* 要建立一個新的變數，我們需要一個指派(assignment)的敘述，並給定變數一開始的值："
   ]
  },
  {
   "cell_type": "code",
   "execution_count": null,
   "metadata": {},
   "outputs": [],
   "source": [
    "message = 'And now for something completely different'"
   ]
  },
  {
   "cell_type": "code",
   "execution_count": null,
   "metadata": {},
   "outputs": [],
   "source": [
    "n = 17"
   ]
  },
  {
   "cell_type": "code",
   "execution_count": null,
   "metadata": {},
   "outputs": [],
   "source": [
    "pi = 3.1415926535897931"
   ]
  },
  {
   "cell_type": "markdown",
   "metadata": {},
   "source": [
    "你會發現執行了如上的指派指令之後，看起來好像什麼事也沒發生，實際上在電腦的主記憶體裡面已經產生了一個變數，並且把值放進去了。如果我們想要看一下變數裡面目前到底存了什麼內容，我們可以用`print()`函式把變數的內容印出來："
   ]
  },
  {
   "cell_type": "code",
   "execution_count": null,
   "metadata": {},
   "outputs": [],
   "source": [
    "print(n)"
   ]
  },
  {
   "cell_type": "code",
   "execution_count": null,
   "metadata": {},
   "outputs": [],
   "source": [
    "print(pi)"
   ]
  },
  {
   "cell_type": "code",
   "execution_count": null,
   "metadata": {},
   "outputs": [],
   "source": [
    "print(message)"
   ]
  },
  {
   "cell_type": "markdown",
   "metadata": {},
   "source": [
    "當然我們也可以用之前學過的`type()`函式，看一看變數裡面存的值到底是什麼樣的型態："
   ]
  },
  {
   "cell_type": "code",
   "execution_count": null,
   "metadata": {},
   "outputs": [],
   "source": [
    "type(n)"
   ]
  },
  {
   "cell_type": "code",
   "execution_count": null,
   "metadata": {},
   "outputs": [],
   "source": [
    "type(pi)"
   ]
  },
  {
   "cell_type": "code",
   "execution_count": null,
   "metadata": {},
   "outputs": [],
   "source": [
    "type(message)"
   ]
  },
  {
   "cell_type": "markdown",
   "metadata": {},
   "source": [
    "## 1.3 變數名稱與保留字"
   ]
  },
  {
   "cell_type": "markdown",
   "metadata": {},
   "source": [
    "一個好的程式設計師，在幫變數取名字的時候，多半會選擇有意義的名稱。所謂有意義的名稱，一般指的是可以讓讀程式的人很明確地一眼就看出來這個變數存的東西是要拿來幹什麼的。\n",
    "\n",
    "Python的變數名稱雖然可以自由取名，但是必須符合如下的規則：\n",
    "1. 變數名字可以很長沒關係，可以用英文大小寫字母和數字，但是**第一個字一定要是英文字母**開頭！\n",
    "2. 底線符號 `_` 可以用在變數的名字裡面。所以如果你的變數名字是由好幾個英文單字組成的，可以考慮用底線連接不同的英文單字，像是 `my_name` 或是 `airspeed_of_unladen_swallow` 等等。\n",
    "\n",
    "如果你不遵守這些規則，那Python一定會產生錯誤，不信你看："
   ]
  },
  {
   "cell_type": "code",
   "execution_count": null,
   "metadata": {},
   "outputs": [],
   "source": [
    "my_name = 'Albert'\n",
    "print(my_name)"
   ]
  },
  {
   "cell_type": "code",
   "execution_count": null,
   "metadata": {},
   "outputs": [],
   "source": [
    "76trombones = 'big parade'"
   ]
  },
  {
   "cell_type": "code",
   "execution_count": null,
   "metadata": {},
   "outputs": [],
   "source": [
    "more@ = 1000000"
   ]
  },
  {
   "cell_type": "code",
   "execution_count": null,
   "metadata": {},
   "outputs": [],
   "source": [
    "class = 'Advanced Theoretical Zyumrgy'"
   ]
  },
  {
   "cell_type": "markdown",
   "metadata": {},
   "source": [
    "等等，最後一個例子，變數名字取名叫作`class`，明明是英文字母開頭，而且都是英文字母組成的，為什麼Python會說SyntaxError語法錯誤呢？\n",
    "\n",
    "其實有個潛規則忘了說，有些特殊的單字是不能拿來作為變數的名稱的！這些字我們把它叫作「**保留字**」(keyword)，這些特殊的單字在Python裡面是保留作為特定的用途使用的，因此不能隨便拿來作為變數的名稱。\n",
    "\n",
    "那Python的保留字有哪些呢？如下："
   ]
  },
  {
   "cell_type": "markdown",
   "metadata": {},
   "source": [
    "> and  as  assert  break  class  continue  def  del  elif  else  except  exec\n",
    "> finally  for  from  global  if  import  in  is  lambda  not  or  pass  print\n",
    "> raise  return  try  while  with  yield"
   ]
  },
  {
   "cell_type": "markdown",
   "metadata": {},
   "source": [
    "## 1.5 Operators (運算子) and Operands (運算元)"
   ]
  },
  {
   "cell_type": "markdown",
   "metadata": {},
   "source": [
    "所謂的「運算子」(Operator)指的是一些特殊的符號用來表示特定的運算，像是加法與乘法。\n",
    "\n",
    "而在運算之中，送給運算子進行計算的值，我們就稱為「運算元」(Operand)。\n",
    "\n",
    "像 `+` `-` `*` `/` 還有 `**` 等，都是運算子。\n",
    "\n",
    "`20 + 32` 這個運算之中，運算子是 `+`，分別有兩個運算元 `20` 和 `32`。\n",
    "\n",
    "在任何的運算之中，可以出現運算元的位置，通通都可以放一個**變數**來代替，像是這樣：\n",
    "* `hour - 1`\n",
    "* `hour * 60 + minute`\n",
    "* `minute / 60`\n",
    "\n",
    "像是下面這個例子："
   ]
  },
  {
   "cell_type": "code",
   "execution_count": null,
   "metadata": {},
   "outputs": [],
   "source": [
    "hour = 2\n",
    "minute = 35\n",
    "hour * 60 + minute"
   ]
  },
  {
   "cell_type": "markdown",
   "metadata": {},
   "source": [
    "## 1.5 Statements 敘述"
   ]
  },
  {
   "cell_type": "markdown",
   "metadata": {},
   "source": [
    "所謂的敘述(statement)就是一個Python直譯器可以完整並正常執行的指令。\n",
    "* 像是 `print('Hello World')` `type(5)` 等，都是一個敘述\n",
    "* 當然一個運算式 `2 + 3` 也是一個敘述\n",
    "\n",
    "若是在Python互動模式下，輸入了一個敘述之後按下Enter鍵，Python直譯器就會立刻執行該敘述，並馬上顯示執行的結果。\n",
    "\n",
    "一個程式 (在Python的習慣我們時常稱為一個「腳本」script) 就是由一連串的敘述組合而成，Python會按順序從上到下依序執行所有的敘述，然後印出執行的最終結果："
   ]
  },
  {
   "cell_type": "code",
   "execution_count": null,
   "metadata": {},
   "outputs": [],
   "source": [
    "x = 5\n",
    "17\n",
    "x + 17"
   ]
  },
  {
   "cell_type": "markdown",
   "metadata": {},
   "source": [
    "## 1.6 運算的優先順序"
   ]
  },
  {
   "cell_type": "markdown",
   "metadata": {},
   "source": [
    "如果一個運算式裡面，有超過一個以上的運算元，那Python會按照運算元的優先順序 (rules of precedence) 來決定哪個運算元要優先被計算。\n",
    "\n",
    "Python運算元的優先順序如下：\n",
    "\n",
    "1. 小括號括起來的地方最優先計算\n",
    " * `2 * (3 - 1)` 會是 `4`，`(1 + 1) ** (5 - 2)` 的答案是 `8`\n",
    "2. 指數的計算是第二優先\n",
    " * `2 ** 1 + 1` 是 `3`，`3 * 1 ** 3` 答案是 `3`\n",
    "3. 乘法和除法是第三優先，這兩個的優先順序一樣高；其次是加法和減法，而加法和減法的優先順序也一樣高\n",
    " * `2 * 3 - 1` 的答案是 `5` 不是 `4`；`6 + 4 / 2` 的答案是 `8` 不是 `5`。\n",
    "4. 如果兩個運算元的優先順序一樣高的話，從左到右按順序計算\n",
    " * `degree / 2 * pi` 運算式中，除法會先做，然後再乘法\n",
    " \n",
    "如果你對於Python運算元的優先順序沒有把握的話，告訴你一個密技：**多用括號就對了！**"
   ]
  },
  {
   "cell_type": "markdown",
   "metadata": {},
   "source": [
    "### 課間練習：神奇的年齡算式\n",
    "\n",
    "(請參照PDF，於下方的程式區塊中練習)"
   ]
  },
  {
   "cell_type": "code",
   "execution_count": null,
   "metadata": {},
   "outputs": [],
   "source": []
  },
  {
   "cell_type": "markdown",
   "metadata": {},
   "source": [
    "## 1.7 字串的四則運算"
   ]
  },
  {
   "cell_type": "markdown",
   "metadata": {},
   "source": [
    "基本上，我們不能對字串進行一般的數學運算，像是：\n",
    "`'2' - '1'` `'eggs' / 'easy'`  `'third' * 'charm'` ，就算是字串裡面的內容看起來很像是個數字，但這些寫法在Python裡面都是不合法的。\n",
    "\n",
    "不過，字串可以做加法，用加法運算子 `+`。字串的加法，實際上就是把兩個字串連接在一起，像這樣："
   ]
  },
  {
   "cell_type": "code",
   "execution_count": null,
   "metadata": {},
   "outputs": [],
   "source": [
    "first = 'throat'\n",
    "second = 'warbler'\n",
    "print(first + second)"
   ]
  },
  {
   "cell_type": "markdown",
   "metadata": {},
   "source": [
    "另外，字串也有乘法，用乘法運算子 `*`。不過字串的乘法必須是一個字串乘上一個整數，其實際上的結果就是把字串的內容重覆多次，像這樣："
   ]
  },
  {
   "cell_type": "code",
   "execution_count": null,
   "metadata": {},
   "outputs": [],
   "source": [
    "'Spam' * 3"
   ]
  },
  {
   "cell_type": "markdown",
   "metadata": {},
   "source": [
    "就像數字乘法 `4 * 3` 實際上等於 `4 + 4 + 4`，字串的乘法 `'Spam' * 3` 實際上也就是 `'Spam' + 'Spam' + 'Spam'`。"
   ]
  },
  {
   "cell_type": "markdown",
   "metadata": {},
   "source": [
    "## 1.8 註解 Comments"
   ]
  },
  {
   "cell_type": "markdown",
   "metadata": {},
   "source": [
    "在我們寫程式的過程中，有的時候我們可能會想做些記錄，寫下一些東西，幫助自己或別人理解這個程式的重點，或是當初是怎麼想出來的。在程式碼裡面，我們可以寫下這些東西，這些內容我們叫作「註解」Comments。\n",
    "\n",
    "在Python裡，註解的內容必須用 `#` 井字號開頭，像這樣："
   ]
  },
  {
   "cell_type": "code",
   "execution_count": null,
   "metadata": {},
   "outputs": [],
   "source": [
    "# 計算經過多少時間對於小時的百分化\n",
    "percentage = (minute * 100) / 60\n",
    "v = 5 # 速度 (公尺/秒)"
   ]
  },
  {
   "cell_type": "markdown",
   "metadata": {},
   "source": [
    "Python直譯器只要看到`#`符號，從它開始一直到行尾，所有的東西Python一律當作沒看到，不會認為是程式的一部分，也不會去執行。\n",
    "\n",
    "寫註解是一個良好的習慣，在一些不容易理解的部分，應當要寫些註解幫助閱讀程式的人了解，說明為什麼是這樣做的。註解應該是要說明光從程式碼不容易看出的東西，像下面的就是一種不好的註解，有寫等於沒寫："
   ]
  },
  {
   "cell_type": "code",
   "execution_count": null,
   "metadata": {},
   "outputs": [],
   "source": [
    "v = 5 # 把 v 設成 5"
   ]
  },
  {
   "cell_type": "markdown",
   "metadata": {},
   "source": [
    "而這種就是好的註解："
   ]
  },
  {
   "cell_type": "code",
   "execution_count": null,
   "metadata": {},
   "outputs": [],
   "source": [
    "v = 5 # 移動速度，單位是 m/s"
   ]
  },
  {
   "cell_type": "markdown",
   "metadata": {},
   "source": [
    "註解的另外一種用途，有時我們可能寫了一段程式碼，但是暫時不想執行，不過又有參考的價值，不想刪掉。這時我們就可以把程式碼變成註解，這樣Python就不會去執行，但是仍然保留在程式碼檔案裡。"
   ]
  },
  {
   "cell_type": "code",
   "execution_count": null,
   "metadata": {},
   "outputs": [],
   "source": [
    "#minute = 35\n",
    "#percentage = (minute * 100) / 60\n",
    "#print(percentage)\n",
    "print(\"good\")"
   ]
  },
  {
   "cell_type": "markdown",
   "metadata": {},
   "source": [
    "## 1.9 除錯 Debugging"
   ]
  },
  {
   "cell_type": "markdown",
   "metadata": {},
   "source": [
    "1. 如果你在變數名稱裡面加了空白，Python會認為是兩個變數，但是中間少了運算子，因此會出現語法錯誤："
   ]
  },
  {
   "cell_type": "code",
   "execution_count": null,
   "metadata": {},
   "outputs": [],
   "source": [
    "bad name = 5"
   ]
  },
  {
   "cell_type": "markdown",
   "metadata": {},
   "source": [
    "2. 任何變數在使用之前一定要先定義過，如果未定義就使用，Python會找不到名稱的定義，就會出現名稱錯誤。但很多時候，出現這種錯誤是因為你的變數名字打錯了！"
   ]
  },
  {
   "cell_type": "code",
   "execution_count": null,
   "metadata": {},
   "outputs": [],
   "source": [
    "principal = 327.68\n",
    "interest = principle * rate"
   ]
  },
  {
   "cell_type": "markdown",
   "metadata": {},
   "source": [
    "princi**pal** ≠ princi**ple**"
   ]
  },
  {
   "cell_type": "markdown",
   "metadata": {},
   "source": [
    "3. 在Python之中，變數名稱大小寫是有分別的，`latex`和`LaTeX`是兩個完全不同的變數！"
   ]
  },
  {
   "cell_type": "code",
   "execution_count": null,
   "metadata": {},
   "outputs": [],
   "source": [
    "latex = 100\n",
    "print(LaTeX)"
   ]
  },
  {
   "cell_type": "markdown",
   "metadata": {},
   "source": [
    "## 1.10 取得合法的使用者輸入\n",
    "\n",
    "* 剛剛我們學到 `print()` 函式是把我們想要印出來的內容印在畫面上的方法，那如果我們想反過來，希望讓使用者可以輸入取得使用者在指令列所輸入資料，是一種很好的互動方式。使用的函式是內建的 input() 函式，範例如下："
   ]
  },
  {
   "cell_type": "code",
   "execution_count": null,
   "metadata": {},
   "outputs": [],
   "source": [
    "val = int(input(\"請輸入一個整數:\"))\n",
    "print(val)"
   ]
  },
  {
   "cell_type": "markdown",
   "metadata": {},
   "source": [
    "* 注意：\n",
    " 1. input 裡面需要一個字串當作參數，這個參數就會變成提示使用者輸入時的「提示字串」\n",
    " 2. 所有經由input()取得的輸入值都是字串，所以必須看情況進行型別轉換。在 `input()` 前面的 `int()` 就是把字串轉換成整數用的。\n",
    "\n"
   ]
  },
  {
   "cell_type": "markdown",
   "metadata": {},
   "source": [
    "## 1.11 課堂練習\n",
    "\n",
    "1. 請讓使用者輸入兩個整數，然後印出這兩個整數的相加與相減的結果。"
   ]
  },
  {
   "cell_type": "code",
   "execution_count": null,
   "metadata": {},
   "outputs": [],
   "source": []
  },
  {
   "cell_type": "markdown",
   "metadata": {},
   "source": [
    "2. 請寫一個程式，讓使用者分別輸入國文、英文、數學三個科目的成績，然後印出總分和平均分數"
   ]
  },
  {
   "cell_type": "code",
   "execution_count": null,
   "metadata": {},
   "outputs": [],
   "source": []
  },
  {
   "cell_type": "markdown",
   "metadata": {},
   "source": [
    "## 1.10 練習"
   ]
  },
  {
   "cell_type": "markdown",
   "metadata": {},
   "source": [
    "請利用Python作為你的計算機，嘗試練習解一下如下的題目："
   ]
  },
  {
   "cell_type": "markdown",
   "metadata": {},
   "source": [
    "1. 一個半徑為 $r$ 的圓球體體積的計算公式是 $\\frac{4}{3} \\pi r^{3}$。那麼半徑為5的圓球，它的體積有多大？"
   ]
  },
  {
   "cell_type": "code",
   "execution_count": null,
   "metadata": {},
   "outputs": [],
   "source": []
  },
  {
   "cell_type": "markdown",
   "metadata": {},
   "source": [
    "2. 一本書的售價是 24.95 元，但是書店提供 40% 的折扣。書的運費，第一本書是 3 元，而後每多一本書，每本書的運費是 0.75 元。請問如果總共買了 60 本書請書店送來，要花多少錢？"
   ]
  },
  {
   "cell_type": "code",
   "execution_count": null,
   "metadata": {},
   "outputs": [],
   "source": []
  },
  {
   "cell_type": "markdown",
   "metadata": {},
   "source": [
    "3. 我早上起床後，於6時52分離開家裡，開始用每公里8分15秒的輕鬆步伐跑了1**公里**，緊接著加速改用每公里7分12秒較快的步伐跑了1**英里**到家，請問我回到家吃早餐是什麼時間？"
   ]
  },
  {
   "cell_type": "code",
   "execution_count": null,
   "metadata": {},
   "outputs": [],
   "source": [
    "pace_sec1 = (8 * 60 + 15) * 1\n",
    "pace_sec2 = (7 * 60 + 12) * 1.6\n",
    "total_sec = pace_sec1 + pace_sec2\n",
    "run_minutes = total_sec // 60\n",
    "run_seconds = total_sec % 60\n",
    "breakfast_hour = 6 + (52 + run_minutes) // 60\n",
    "breakfast_minute = (52 + run_minutes) % 60\n",
    "print(\"吃早餐時間為\", int(breakfast_hour), \"時\", int(breakfast_minute), \"分\")"
   ]
  },
  {
   "cell_type": "code",
   "execution_count": null,
   "metadata": {},
   "outputs": [],
   "source": []
  }
 ],
 "metadata": {
  "kernelspec": {
   "display_name": "Python 3 (ipykernel)",
   "language": "python",
   "name": "python3"
  },
  "language_info": {
   "codemirror_mode": {
    "name": "ipython",
    "version": 3
   },
   "file_extension": ".py",
   "mimetype": "text/x-python",
   "name": "python",
   "nbconvert_exporter": "python",
   "pygments_lexer": "ipython3",
   "version": "3.11.7"
  }
 },
 "nbformat": 4,
 "nbformat_minor": 4
}
