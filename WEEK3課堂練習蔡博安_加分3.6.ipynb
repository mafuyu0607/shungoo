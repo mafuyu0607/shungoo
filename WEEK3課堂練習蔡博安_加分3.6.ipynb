{
  "nbformat": 4,
  "nbformat_minor": 0,
  "metadata": {
    "colab": {
      "provenance": [],
      "authorship_tag": "ABX9TyOJQEKfTWKQ+IbgimNQAfg9",
      "include_colab_link": true
    },
    "kernelspec": {
      "name": "python3",
      "display_name": "Python 3"
    },
    "language_info": {
      "name": "python"
    }
  },
  "cells": [
    {
      "cell_type": "markdown",
      "metadata": {
        "id": "view-in-github",
        "colab_type": "text"
      },
      "source": [
        "<a href=\"https://colab.research.google.com/github/mafuyu0607/shungoo/blob/main/WEEK3%E8%AA%B2%E5%A0%82%E7%B7%B4%E7%BF%92%E8%94%A1%E5%8D%9A%E5%AE%89_%E5%8A%A0%E5%88%863.6.ipynb\" target=\"_parent\"><img src=\"https://colab.research.google.com/assets/colab-badge.svg\" alt=\"Open In Colab\"/></a>"
      ]
    },
    {
      "cell_type": "markdown",
      "source": [
        "6.印星星(三):"
      ],
      "metadata": {
        "id": "VcAg2i4L3hN5"
      }
    },
    {
      "cell_type": "code",
      "execution_count": 1,
      "metadata": {
        "colab": {
          "base_uri": "https://localhost:8080/"
        },
        "id": "zFj-KIDn3fPH",
        "outputId": "36a41140-c865-4b73-ac31-6aaf3d90c658"
      },
      "outputs": [
        {
          "output_type": "stream",
          "name": "stdout",
          "text": [
            "    *\n",
            "  ***\n",
            "*****\n",
            "  ***\n",
            "    *\n"
          ]
        }
      ],
      "source": [
        "x=1\n",
        "while x<=9:\n",
        "  if x<=5:\n",
        "    print(' '*(5-x)+'*'*x)\n",
        "  else:\n",
        "    print(' '*(x-5)+'*'*(10-x))\n",
        "  x=x+2"
      ]
    }
  ]
}