{
  "nbformat": 4,
  "nbformat_minor": 0,
  "metadata": {
    "colab": {
      "provenance": [],
      "authorship_tag": "ABX9TyObYtwdmDis1jiJGGbo6S61",
      "include_colab_link": true
    },
    "kernelspec": {
      "name": "python3",
      "display_name": "Python 3"
    },
    "language_info": {
      "name": "python"
    }
  },
  "cells": [
    {
      "cell_type": "markdown",
      "metadata": {
        "id": "view-in-github",
        "colab_type": "text"
      },
      "source": [
        "<a href=\"https://colab.research.google.com/github/mafuyu0607/shungoo/blob/main/WEEK3%E8%AA%B2%E5%A0%82%E7%B7%B4%E7%BF%92_%E5%8A%A0%E5%88%863.3.ipynb\" target=\"_parent\"><img src=\"https://colab.research.google.com/assets/colab-badge.svg\" alt=\"Open In Colab\"/></a>"
      ]
    },
    {
      "cell_type": "markdown",
      "source": [
        "3.某班學生人數不詳，欲輸入每一個學生成績，當輸入 -1 時表示結束輸入，然後顯示出全班人數、及格人數、不及格人數、以及全班平均值。"
      ],
      "metadata": {
        "id": "PKhFArn92qfr"
      }
    },
    {
      "cell_type": "code",
      "execution_count": 1,
      "metadata": {
        "colab": {
          "base_uri": "https://localhost:8080/"
        },
        "id": "fCbKy-ao2hU0",
        "outputId": "14dacb3c-e7b6-4118-d1f2-1e8ee3f92b95"
      },
      "outputs": [
        {
          "output_type": "stream",
          "name": "stdout",
          "text": [
            "請輸入成績:(輸入-1結束):52\n",
            "請輸入成績:(輸入-1結束):65\n",
            "請輸入成績:(輸入-1結束):99\n",
            "請輸入成績:(輸入-1結束):45\n",
            "請輸入成績:(輸入-1結束):23\n",
            "請輸入成績:(輸入-1結束):10\n",
            "請輸入成績:(輸入-1結束):-1\n",
            "全班人數: 6\n",
            "及格人數: 2\n",
            "不及格人數: 64\n",
            "全班平均值: 49.0\n"
          ]
        }
      ],
      "source": [
        "count=0\n",
        "total=0\n",
        "passc=0\n",
        "failc=0\n",
        "while True:\n",
        "  score = int(input('請輸入成績:(輸入-1結束):'))\n",
        "  if score == -1:\n",
        "    break\n",
        "  total += score\n",
        "  count += 1\n",
        "  if score >= 60:\n",
        "    passc += 1\n",
        "  else:\n",
        "    failc += 16\n",
        "  avr = total / count\n",
        "print(\"全班人數:\",count)\n",
        "print(\"及格人數:\",passc)\n",
        "print(\"不及格人數:\",failc)\n",
        "print(\"全班平均值:\",avr)"
      ]
    }
  ]
}