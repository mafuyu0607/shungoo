{
 "cells": [
  {
   "cell_type": "markdown",
   "metadata": {},
   "source": [
    "# Python Class Week 2: \n",
    "## 條件判斷"
   ]
  },
  {
   "cell_type": "markdown",
   "metadata": {},
   "source": [
    "* 本章主要將要介紹：條件判斷。因為某些條件的不同，而決定不同的執行方式。\n",
    "* 但在介紹主要的「條件判斷」結構之前，必須先講講，你有哪些可能用來判斷的「比較方式」。   "
   ]
  },
  {
   "cell_type": "markdown",
   "metadata": {},
   "source": [
    "## 2.1 一切的根源，「是（True）」與「否(False)」"
   ]
  },
  {
   "cell_type": "markdown",
   "metadata": {},
   "source": [
    "* 程式邏輯當中，利用狀況判斷決定要如何進行，是非常常見的行為。\n",
    "* 但程式的想法是很簡單的：符合「某種情況」就進行A，否則，就進行B\n",
    "* 或是：符合「某種情況」就進行A， 否則看看是否符合「第二種情況」，若是就進行B，在不然，就進行C\n",
    "* …... 各種可能的擴充。\n",
    "\n",
    "* 但認真來想，面對「符合某種情況」的判斷時，其實結果只有兩種：「是（True）」與「否(False)」\n",
    "* 不過，對於狀況的定義，有很多種可能。\n",
    "* 例如：「1是否等於1」(這是一種相等的比較)，或是 「a 是否小於1」(這是一種大小的比較)，或是 「b 是否不等於k」 (這是一種不等於的比較)。 … 有很多種運算方式。\n",
    "* 因此，我們下面先討論一些經常用於情況判斷的運算方式："
   ]
  },
  {
   "cell_type": "markdown",
   "metadata": {},
   "source": [
    "## 2.2 比較運算 == , > , < , >=, <= , !=\n",
    "\n",
    "* `==` 運算子（operator）: 用來比較兩邊的「值」，是否完全相等。\n",
    "* 注意，這是一種運算，就像1+1一樣，是一種運算。運算就會產生結果，`==` 運算子的結果是兩種：`True` 或  `False`，如下例："
   ]
  },
  {
   "cell_type": "code",
   "execution_count": null,
   "metadata": {},
   "outputs": [],
   "source": [
    "5 == 5"
   ]
  },
  {
   "cell_type": "code",
   "execution_count": null,
   "metadata": {},
   "outputs": [],
   "source": [
    "5 == 6"
   ]
  },
  {
   "cell_type": "markdown",
   "metadata": {},
   "source": [
    "* 為了程式中運算的需求，所以True/False 不是「字串」型態，而是特殊的boolean(布林值)型態。布林值就只有 真(True)/假(False) 兩種可能性。所以boolean值型態的變數，不可相加減，不可乘除，但可以比較，也可以搭配後續會介紹的 and/or/not 運算。\n",
    "\n",
    "* `==` 運算子之外，其他的比較可能性有："
   ]
  },
  {
   "cell_type": "raw",
   "metadata": {},
   "source": [
    "x != y # x is not equal to y \n",
    "x > y  # x is greater than y \n",
    "x < y  # x is less than y \n",
    "x >= y # x is greater than or equal to y \n",
    "x <= y # x is less than or equal to y "
   ]
  },
  {
   "cell_type": "markdown",
   "metadata": {},
   "source": [
    "* 要特別注意的是，`=` 是 assignment(指派)，而非比較 (`==`)，千萬不要搞混。解釋一下下面的四個步驟："
   ]
  },
  {
   "cell_type": "code",
   "execution_count": 5,
   "metadata": {},
   "outputs": [],
   "source": [
    "a=1"
   ]
  },
  {
   "cell_type": "code",
   "execution_count": null,
   "metadata": {},
   "outputs": [],
   "source": [
    "a==2"
   ]
  },
  {
   "cell_type": "code",
   "execution_count": null,
   "metadata": {},
   "outputs": [],
   "source": [
    "a=a+1"
   ]
  },
  {
   "cell_type": "code",
   "execution_count": null,
   "metadata": {},
   "outputs": [],
   "source": [
    "a==2"
   ]
  },
  {
   "cell_type": "markdown",
   "metadata": {},
   "source": [
    "## 2.3 邏輯運算 operators\n",
    "\n",
    "* 邏輯運算是搭配Boolean值的特殊運算方式。常用的是：`and` (和), `or` (或), `not` (非)\n",
    "* 試一下下面的運算。（以下假設x=1, y=10）"
   ]
  },
  {
   "cell_type": "code",
   "execution_count": null,
   "metadata": {},
   "outputs": [],
   "source": [
    "x = 1\n",
    "y = 10"
   ]
  },
  {
   "cell_type": "markdown",
   "metadata": {},
   "source": [
    "### `and` 「和」運算"
   ]
  },
  {
   "cell_type": "code",
   "execution_count": 1,
   "metadata": {},
   "outputs": [
    {
     "data": {
      "text/plain": [
       "True"
      ]
     },
     "execution_count": 1,
     "metadata": {},
     "output_type": "execute_result"
    }
   ],
   "source": [
    "True and True"
   ]
  },
  {
   "cell_type": "code",
   "execution_count": null,
   "metadata": {},
   "outputs": [],
   "source": [
    "True and False"
   ]
  },
  {
   "cell_type": "code",
   "execution_count": null,
   "metadata": {},
   "outputs": [],
   "source": [
    "False and False"
   ]
  },
  {
   "cell_type": "code",
   "execution_count": null,
   "metadata": {},
   "outputs": [],
   "source": [
    "(x > 20) and (y <= 10)"
   ]
  },
  {
   "cell_type": "code",
   "execution_count": null,
   "metadata": {},
   "outputs": [],
   "source": [
    "(x > 0) and (y < 5)"
   ]
  },
  {
   "cell_type": "code",
   "execution_count": 4,
   "metadata": {},
   "outputs": [
    {
     "ename": "NameError",
     "evalue": "name 'x' is not defined",
     "output_type": "error",
     "traceback": [
      "\u001b[1;31m---------------------------------------------------------------------------\u001b[0m",
      "\u001b[1;31mNameError\u001b[0m                                 Traceback (most recent call last)",
      "Cell \u001b[1;32mIn[4], line 1\u001b[0m\n\u001b[1;32m----> 1\u001b[0m (x \u001b[38;5;241m==\u001b[39m \u001b[38;5;241m1\u001b[39m) \u001b[38;5;129;01mand\u001b[39;00m (y \u001b[38;5;241m==\u001b[39m \u001b[38;5;241m10\u001b[39m)\n",
      "\u001b[1;31mNameError\u001b[0m: name 'x' is not defined"
     ]
    }
   ],
   "source": [
    "(x == 1) and (y == 10)"
   ]
  },
  {
   "cell_type": "code",
   "execution_count": 3,
   "metadata": {},
   "outputs": [
    {
     "ename": "NameError",
     "evalue": "name 'x' is not defined",
     "output_type": "error",
     "traceback": [
      "\u001b[1;31m---------------------------------------------------------------------------\u001b[0m",
      "\u001b[1;31mNameError\u001b[0m                                 Traceback (most recent call last)",
      "Cell \u001b[1;32mIn[3], line 1\u001b[0m\n\u001b[1;32m----> 1\u001b[0m (x \u001b[38;5;241m<\u001b[39m y) \u001b[38;5;129;01mand\u001b[39;00m (y \u001b[38;5;241m>\u001b[39m \u001b[38;5;241m-\u001b[39m\u001b[38;5;241m3\u001b[39m)\n",
      "\u001b[1;31mNameError\u001b[0m: name 'x' is not defined"
     ]
    }
   ],
   "source": [
    "(x < y) and (y > -3)"
   ]
  },
  {
   "cell_type": "markdown",
   "metadata": {},
   "source": [
    "### `or` 「或」運算"
   ]
  },
  {
   "cell_type": "code",
   "execution_count": null,
   "metadata": {},
   "outputs": [],
   "source": [
    "True or True"
   ]
  },
  {
   "cell_type": "code",
   "execution_count": null,
   "metadata": {},
   "outputs": [],
   "source": [
    "True or False"
   ]
  },
  {
   "cell_type": "code",
   "execution_count": null,
   "metadata": {},
   "outputs": [],
   "source": [
    "False or False"
   ]
  },
  {
   "cell_type": "code",
   "execution_count": null,
   "metadata": {},
   "outputs": [],
   "source": [
    "(x > 20) or (y <= 10)"
   ]
  },
  {
   "cell_type": "code",
   "execution_count": null,
   "metadata": {},
   "outputs": [],
   "source": [
    "(x > 0) or (y < 5)"
   ]
  },
  {
   "cell_type": "code",
   "execution_count": null,
   "metadata": {},
   "outputs": [],
   "source": [
    "(x == 1) or (y == 10) "
   ]
  },
  {
   "cell_type": "code",
   "execution_count": null,
   "metadata": {},
   "outputs": [],
   "source": [
    "(x < y) or (y < -3) "
   ]
  },
  {
   "cell_type": "markdown",
   "metadata": {},
   "source": [
    "### `not` 「非」運算"
   ]
  },
  {
   "cell_type": "code",
   "execution_count": null,
   "metadata": {},
   "outputs": [],
   "source": [
    "not True"
   ]
  },
  {
   "cell_type": "code",
   "execution_count": null,
   "metadata": {},
   "outputs": [],
   "source": [
    "not False"
   ]
  },
  {
   "cell_type": "code",
   "execution_count": null,
   "metadata": {},
   "outputs": [],
   "source": [
    "not x > 20"
   ]
  },
  {
   "cell_type": "code",
   "execution_count": null,
   "metadata": {},
   "outputs": [],
   "source": [
    "not y == 9"
   ]
  },
  {
   "cell_type": "code",
   "execution_count": null,
   "metadata": {},
   "outputs": [],
   "source": [
    "not x == y"
   ]
  },
  {
   "cell_type": "markdown",
   "metadata": {},
   "source": [
    "### 結合運算"
   ]
  },
  {
   "cell_type": "code",
   "execution_count": null,
   "metadata": {},
   "outputs": [],
   "source": [
    "(not True) and (not False)"
   ]
  },
  {
   "cell_type": "code",
   "execution_count": null,
   "metadata": {},
   "outputs": [],
   "source": [
    "(not True) or (not False)"
   ]
  },
  {
   "cell_type": "code",
   "execution_count": null,
   "metadata": {},
   "outputs": [],
   "source": [
    "not ( True and False)"
   ]
  },
  {
   "cell_type": "code",
   "execution_count": null,
   "metadata": {},
   "outputs": [],
   "source": [
    "not ( True or False)"
   ]
  },
  {
   "cell_type": "code",
   "execution_count": null,
   "metadata": {},
   "outputs": [],
   "source": [
    "not (False and (not False))"
   ]
  },
  {
   "cell_type": "code",
   "execution_count": null,
   "metadata": {},
   "outputs": [],
   "source": [
    "not (False or (not False))"
   ]
  },
  {
   "cell_type": "code",
   "execution_count": null,
   "metadata": {},
   "outputs": [],
   "source": [
    "(not x > 20) and (not y <= 10)"
   ]
  },
  {
   "cell_type": "code",
   "execution_count": null,
   "metadata": {},
   "outputs": [],
   "source": [
    "(not x > 0) and (not y < 5) "
   ]
  },
  {
   "cell_type": "code",
   "execution_count": null,
   "metadata": {},
   "outputs": [],
   "source": [
    "not (x == 1 and y == 10) "
   ]
  },
  {
   "cell_type": "code",
   "execution_count": null,
   "metadata": {},
   "outputs": [],
   "source": [
    "not (x > 20 or y <= 10)"
   ]
  },
  {
   "cell_type": "code",
   "execution_count": null,
   "metadata": {},
   "outputs": [],
   "source": [
    "not ((not x > 0) and y < 5) "
   ]
  },
  {
   "cell_type": "code",
   "execution_count": null,
   "metadata": {},
   "outputs": [],
   "source": [
    "not (x == 1 or not y == 10)"
   ]
  },
  {
   "cell_type": "markdown",
   "metadata": {},
   "source": [
    "* 一些特殊情況：一個單一數字也可以當作boolen值來運用。此時，該數字若是`0`，會被解釋為`False`, 該數字若是`1`，都會當作`True`. \n",
    "* （**重要！！**）其他數字，不是`True`，也不是`False`\n",
    "\n",
    "* Ex: 回答以下問題："
   ]
  },
  {
   "cell_type": "code",
   "execution_count": null,
   "metadata": {},
   "outputs": [],
   "source": [
    "1 == True"
   ]
  },
  {
   "cell_type": "code",
   "execution_count": null,
   "metadata": {},
   "outputs": [],
   "source": [
    "0 == True"
   ]
  },
  {
   "cell_type": "code",
   "execution_count": null,
   "metadata": {},
   "outputs": [],
   "source": [
    "-1 == True"
   ]
  },
  {
   "cell_type": "code",
   "execution_count": null,
   "metadata": {},
   "outputs": [],
   "source": [
    "-1 == False"
   ]
  },
  {
   "cell_type": "markdown",
   "metadata": {},
   "source": [
    "## 2.4 條件判斷與執行"
   ]
  },
  {
   "cell_type": "markdown",
   "metadata": {},
   "source": [
    "* 條件判斷讓我們在程式裡面有能力進行條件的檢查，從而改變程式的行為\n",
    "* 最簡單的條件判斷就是 **if 敘述**:"
   ]
  },
  {
   "cell_type": "code",
   "execution_count": null,
   "metadata": {},
   "outputs": [],
   "source": [
    "if x > 0:\n",
    "    print('x is positive') "
   ]
  },
  {
   "cell_type": "markdown",
   "metadata": {},
   "source": [
    "* 在 `if` 之後的布林運算式我們叫作「條件」。如果它的結果是`True`，那麼之後縮排進去的程式敘述就會被執行；如果不是，那麼什麼事也不會發生。\n",
    "* 在`if`之後縮排的body部分，沒有長度的限制，你愛寫多少句敘述都可以，但是至少一定要有一句。\n",
    "* 如果你真的需要寫一個沒有任何body內容`if`敘述（通常是我們知道這條件發生時要做些事情，但還沒想好或還沒時間寫該怎麼做的時候），你可以在body裡放一個 `pass` 敘述，Python讀到的時候就不會做任何事，就像這樣："
   ]
  },
  {
   "cell_type": "code",
   "execution_count": null,
   "metadata": {},
   "outputs": [],
   "source": [
    "if x < 0:\n",
    "    pass  # need to handle negative values! "
   ]
  },
  {
   "cell_type": "markdown",
   "metadata": {},
   "source": [
    "### 課堂練習 2.1\n",
    "\n",
    "請寫一個程式，讓使用者輸入考試分數， 判斷使用者輸入的分數是否及格，如果及格的話就印出「你及格了」。"
   ]
  },
  {
   "cell_type": "code",
   "execution_count": null,
   "metadata": {},
   "outputs": [],
   "source": []
  },
  {
   "cell_type": "markdown",
   "metadata": {},
   "source": [
    "## 2.5 Alternative execution\n",
    "\n",
    "* 補充：`%` 運算子是用來取餘數。\n",
    "* 三個常常用到`%`運算的情形：\n",
    " 1. 看看兩數是否會互相整除： if x % y == 0 \n",
    " 2. 判斷一個數是不是偶數的最好方式，就是用除以2的餘數，是不是0來判斷。\n",
    " 3. 取一個數字的最末幾位數。例如：\n",
    "   1. x % 10 可以取得某一數字的最末一位數。\n",
    "   2. x % 100 可以取得某一數字的最末兩位數。\n",
    "\n",
    "\n",
    "* `if` 結合 `else` 讓我們可以表示有兩種條件發生可能性，依據條件來決定哪一部分的程式要被執行"
   ]
  },
  {
   "cell_type": "code",
   "execution_count": null,
   "metadata": {},
   "outputs": [],
   "source": [
    "if x % 2 == 0: \n",
    "    print('x is even') \n",
    "else: \n",
    "    print('x is odd') "
   ]
  },
  {
   "cell_type": "markdown",
   "metadata": {},
   "source": [
    "* 這又稱作「分支」(branch)，因為這讓程式執行的流程產生了不同的分支"
   ]
  },
  {
   "cell_type": "markdown",
   "metadata": {},
   "source": [
    "### 課堂練習 2.2\n",
    "\n",
    "下表為氣象局的紫外線指數分級說明，當數值「8」以上就是過量級有危險了！\n",
    "\n",
    "| 紫外線指數 | 曝曬級數 |\n",
    "|:----------:|:--------:|\n",
    "|     0–2    |  低量級  |\n",
    "|     3–5    |  中量級  |\n",
    "|     6–7    |  高量級  |\n",
    "|    8–10    |  過量級  |\n",
    "|     11+    |  危險級  |\n",
    "\n",
    "請寫一個程式，讓使用者輸入今天的紫外線指數，若是8以上，則印出「今日的紫外線指數過量，請小心防曬！」提醒使用者；若小於8，則印出「今日的紫外線指數未過量。」"
   ]
  },
  {
   "cell_type": "code",
   "execution_count": null,
   "metadata": {},
   "outputs": [],
   "source": []
  },
  {
   "cell_type": "markdown",
   "metadata": {},
   "source": [
    "## 2.7 連鎖條件 Chained conditionals\n",
    "\n",
    "* 有的時候會發生的可能性不只兩種，我們需要更多的條件檢查，產生更多的分支\n",
    "* 要表達這樣的多種分支，我們可以利用連鎖的條件檢查來達成："
   ]
  },
  {
   "cell_type": "code",
   "execution_count": null,
   "metadata": {},
   "outputs": [],
   "source": [
    "if x < y: \n",
    "    print('x is less than y') \n",
    "elif x > y: \n",
    "    print ('x is greater than y') \n",
    "else: \n",
    "    print ('x and y are equal') "
   ]
  },
  {
   "cell_type": "markdown",
   "metadata": {},
   "source": [
    "* `elif` 是 “else if” 的縮寫\n",
    "\n",
    "* 同樣地，同時間只可能有一個分支被執行"
   ]
  },
  {
   "cell_type": "raw",
   "metadata": {},
   "source": [
    "if choice == 'a': \n",
    "    draw_a() \n",
    "elif choice == 'b': \n",
    "    draw_b() \n",
    "elif choice == 'c': \n",
    "    draw_c() "
   ]
  },
  {
   "cell_type": "markdown",
   "metadata": {},
   "source": [
    "* Python會按你所寫的程式順序，依序檢查每一個條件。如果第一個條件的結果是`False`，Python就會再嘗試檢查下一個，直到有一個是`True`，那Python就會執行那一個條件的body部分，然後這整個`if`-`elif`-`else`結構的敘述就會全部結束。\n",
    "* 也就是說，就算有好幾個條件都可能是`True`，Python也只會執行它遇到的**第一個**為`True`的條件的body，其它的**都不會被執行**。"
   ]
  },
  {
   "cell_type": "markdown",
   "metadata": {},
   "source": [
    "### 課堂練習 2.3\n",
    "\n",
    "讓使用者輸入分數。判斷是否為90以上，若是就列印：「你好棒，考了xx分，得到A」。若介於80-89則列印：「不錯，考了xx分，得到B」，以此類推直到不及格的E。"
   ]
  },
  {
   "cell_type": "code",
   "execution_count": null,
   "metadata": {},
   "outputs": [],
   "source": []
  },
  {
   "cell_type": "markdown",
   "metadata": {},
   "source": [
    "### 課堂練習 2.4\n",
    "\n",
    "請設計一個閏年判斷程式，依據使用者輸入的西元年份，判斷該年是否為閏年。\n",
    "\n",
    "閏年的判斷方式如下：\n",
    "\n",
    "* 若西元年末兩位不為00，且為4的倍數，則該年為閏年，其餘不為閏年\n",
    "* 若西元年末兩位為00，且可被400整除者，則該年為閏年，其餘不為閏年\n",
    "\n",
    "判斷口訣：「**四年一閏，百年不閏，四百年又閏**」"
   ]
  },
  {
   "cell_type": "code",
   "execution_count": null,
   "metadata": {},
   "outputs": [],
   "source": []
  },
  {
   "cell_type": "markdown",
   "metadata": {},
   "source": [
    "### 課堂練習 2.5\n",
    "\n",
    "請設計一個單位轉換程式，可以轉換「公尺→英尺」以及「公斤→英磅」兩種功能，請先讓使用者選擇要轉換哪一種單位，再輸入欲轉換的數字。\n",
    "\n",
    "* 1公尺 = 3.28英尺\n",
    "* 1公斤 = 2.2英磅\n",
    "\n",
    "例如："
   ]
  },
  {
   "cell_type": "raw",
   "metadata": {},
   "source": [
    "您要轉換 1)公尺->英尺  2)公斤->英磅: 1\n",
    "請輸入欲轉換的數字: 50\n",
    "50.000000公尺=164.000000英尺"
   ]
  },
  {
   "cell_type": "raw",
   "metadata": {},
   "source": [
    "您要轉換 1)公尺->英尺  2)公斤->英磅: 2\n",
    "請輸入欲轉換的數字: 3.5\n",
    "3.500000公斤=7.700000英磅"
   ]
  },
  {
   "cell_type": "raw",
   "metadata": {},
   "source": [
    "您要轉換 1)公尺->英尺  2)公斤->英磅: 3\n",
    "請輸入欲轉換的數字: 50\n",
    "沒有這個選項"
   ]
  },
  {
   "cell_type": "code",
   "execution_count": null,
   "metadata": {},
   "outputs": [],
   "source": []
  },
  {
   "cell_type": "markdown",
   "metadata": {},
   "source": [
    "### 課堂練習 2.6\n",
    "\n",
    "我們都知道一年有四季，分別是春(3-5月)、夏(6-8月)、秋(9-11月)、冬(12-2月)。\n",
    "請寫一個程式判斷輸入的月份是什麼季節。\n",
    "\n",
    "另外，如果輸入「13」，程式會回應「不合格式的月份！」"
   ]
  },
  {
   "cell_type": "code",
   "execution_count": null,
   "metadata": {},
   "outputs": [],
   "source": []
  }
 ],
 "metadata": {
  "kernelspec": {
   "display_name": "Python 3 (ipykernel)",
   "language": "python",
   "name": "python3"
  },
  "language_info": {
   "codemirror_mode": {
    "name": "ipython",
    "version": 3
   },
   "file_extension": ".py",
   "mimetype": "text/x-python",
   "name": "python",
   "nbconvert_exporter": "python",
   "pygments_lexer": "ipython3",
   "version": "3.11.7"
  }
 },
 "nbformat": 4,
 "nbformat_minor": 4
}
