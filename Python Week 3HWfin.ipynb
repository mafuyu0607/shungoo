{
  "cells": [
    {
      "cell_type": "markdown",
      "metadata": {
        "id": "bg4iHF77mC8Z"
      },
      "source": [
        "# Python Class Week 3\n",
        "\n",
        "# 3. 迴圈結構(Iteration)\n",
        "\n",
        "* 所謂的迴圈結構，就是讓電腦一直的重複做同一件事。當然，在大多數的情況之下，重複執行的同一件事會因為相關的參數有一些變化，而結果會有一些改變。例如：\n",
        " 1. 由1加到100, 其實是執行 0＋1，結果+2,  結果+3, 結果+4, …  結果+100,\n",
        " 2. 重複印一樣的歌詞100遍\n",
        " 3. 重複印一樣的邀請函100張，但是「被邀請人的姓名」不一樣....\n",
        "* 這些動作，若要在程式中一行一行寫，就得寫100次一樣的東西，實在很笨。所以程式語言有種叫作「迴圈」的東西，讓我們可以只要寫一次就好。\n",
        "\n",
        "## 3.1  兩種迴圈 ： for loops 與 while loops\n",
        "\n",
        "* 迴圈有兩種：「知道要繞幾圈」、「不知要繞幾圈，但知道何時要結束（知道結束條件）」\n",
        "* 「知道要繞幾圈」：例如：由1加到100 = 繞100圈，重複印一樣的歌詞100遍＝繞100圈，這種情況要用 for loops.\n",
        "* 「不知要繞幾圈，但知道何時要結束（知道結束條件）」: 例如：輸入到合法的值為止。這種情況要用 while。\n",
        "* 我把課本的順序對調，先教for loops, 再教 while loops.\n",
        "\n",
        "## 3.2  for 迴圈(for Loops)\n",
        "\n",
        "* for 迴圈，的基本精神是可以指定迴圈執行的圈數。但在python中 for 迴圈 有一個更深的意含，就是用來把一個「有順序的物件(sequence object)的內容逐一拜訪過。」\n",
        "* 這個「更深的意含」目前有點難懂，但是實際上做一些例子後，就會明瞭了。\n",
        "* for 迴圈的表示方式如下：\n",
        "* 先看一個簡單範例："
      ]
    },
    {
      "cell_type": "raw",
      "metadata": {
        "id": "yrPo78hQmC8a"
      },
      "source": [
        "for <target> in <object>: # Assign object items to target.\n",
        "    <statements>"
      ]
    },
    {
      "cell_type": "code",
      "execution_count": null,
      "metadata": {
        "id": "NtpjmEoBmC8a",
        "outputId": "c2a10e1e-753d-4f7e-f951-c0a0f29d2f6c"
      },
      "outputs": [
        {
          "name": "stdout",
          "output_type": "stream",
          "text": [
            "1\n",
            "2\n",
            "3\n"
          ]
        }
      ],
      "source": [
        "for x in [1, 2, 3]:\n",
        "    print(x)"
      ]
    },
    {
      "cell_type": "markdown",
      "metadata": {
        "id": "XG-2hYR_mC8a"
      },
      "source": [
        "* 我們對照著看。<target\\>就是範例中的 `x`，<object\\>就是`[1,2,3]`\n",
        "* `[1,2,3]` 是一個 List, 也是一個「有順序的物件(sequence object)」，內容是1,2,3 三個數字。\n",
        "* 而<target\\>（就是範例中的 `x`），是我們給的一個變數，可以隨便命名。\n",
        "* 而每次迴圈執行一次，就會依序的把<object\\>（範例中是`[1,2,3]`）的一個值，複製到x之中。直到所有<object\\>的值都被複製出來後，迴圈就結束。\n",
        "* 因此，下面是一些執行的例子"
      ]
    },
    {
      "cell_type": "code",
      "execution_count": null,
      "metadata": {
        "id": "58RAnzJimC8b",
        "outputId": "70a90330-24d2-4fcd-c94a-18c7301fa67b"
      },
      "outputs": [
        {
          "name": "stdout",
          "output_type": "stream",
          "text": [
            "spam\n",
            "eggs\n",
            "ham\n"
          ]
        }
      ],
      "source": [
        "for x in [\"spam\", \"eggs\", \"ham\"]:\n",
        "    print(x)"
      ]
    },
    {
      "cell_type": "code",
      "execution_count": null,
      "metadata": {
        "id": "vHoMlfnNmC8b",
        "outputId": "86d2705d-defe-4c28-dbe4-7007bec5a7b5"
      },
      "outputs": [
        {
          "name": "stdout",
          "output_type": "stream",
          "text": [
            "10\n"
          ]
        }
      ],
      "source": [
        "sum = 0\n",
        "for x in [1, 2, 3, 4]:\n",
        "    sum = sum + x\n",
        "\n",
        "print(sum)"
      ]
    },
    {
      "cell_type": "code",
      "execution_count": null,
      "metadata": {
        "id": "lL3d_e39mC8b"
      },
      "outputs": [],
      "source": [
        "sum = 0\n",
        "for x in range(1, 101):\n",
        "    sum = sum + x\n",
        "\n",
        "print(sum)"
      ]
    },
    {
      "cell_type": "code",
      "execution_count": null,
      "metadata": {
        "id": "49tjB7V0mC8b"
      },
      "outputs": [],
      "source": [
        "prod = 1\n",
        "for item in [1, 2, 3, 4]:\n",
        "    prod *= item\n",
        "\n",
        "print(prod)"
      ]
    },
    {
      "cell_type": "code",
      "execution_count": null,
      "metadata": {
        "id": "J5Xs-8WHmC8b",
        "outputId": "26974186-3280-4a2e-91ca-762e63f43063"
      },
      "outputs": [
        {
          "name": "stdout",
          "output_type": "stream",
          "text": [
            "王老先生有塊地，他在田邊養小雞\n",
            "王老先生有塊地，他在田邊養小鴨\n",
            "王老先生有塊地，他在田邊養小羊\n"
          ]
        }
      ],
      "source": [
        "for x in [\"小雞\", \"小鴨\", \"小羊\"]:\n",
        "    print(\"王老先生有塊地，他在田邊養%s\" % x )"
      ]
    },
    {
      "cell_type": "markdown",
      "metadata": {
        "id": "IanvMDxLmC8b"
      },
      "source": [
        "* 有些時候，我們也不管<target\\>值（就是範例中的 `x` 值）的變化，只是讓迴圈轉適當的次數，但這種情況不多。例如："
      ]
    },
    {
      "cell_type": "code",
      "execution_count": null,
      "metadata": {
        "id": "M5UrkI_3mC8b",
        "outputId": "1fb87074-8b42-425f-ba04-d63c2a73171c"
      },
      "outputs": [
        {
          "name": "stdout",
          "output_type": "stream",
          "text": [
            "王老先生有塊地，咿啞咿啞唷\n",
            "王老先生有塊地，咿啞咿啞唷\n",
            "王老先生有塊地，咿啞咿啞唷\n"
          ]
        }
      ],
      "source": [
        "for x in [1, 2, 3]:\n",
        "    print(\"王老先生有塊地，咿啞咿啞唷\")"
      ]
    },
    {
      "cell_type": "markdown",
      "metadata": {
        "id": "bCT_fl8XmC8b"
      },
      "source": [
        "## Range 函式\n",
        "\n",
        "* `range(n)` 是用來產成一個整數的List, 以便被尋訪內容。\n",
        "* `range` 有很多使用的方式，第一種方式，和我們已經用過的一樣，只給一個整數`n`。則會產生一個整數的List，內容是0 ~ n-1, 共n個值。\n",
        "* 你也可以傳入兩個值，`range(n,m)` 此時產生的整數的List內容就是：由 n ~ m-1，一共（m-n）個數。\n",
        "* 你也可傳入第三個值，`range(n,m,s)`， 此時產生的整數的List內容就是：n, n+s, n+2*s, n+3*s.... <m 的最大的那一個。以下是一些範例。"
      ]
    },
    {
      "cell_type": "code",
      "execution_count": null,
      "metadata": {
        "id": "PfCNuPYXmC8b",
        "outputId": "635affe7-6965-48e4-ab3d-318c56547aa3"
      },
      "outputs": [
        {
          "data": {
            "text/plain": [
              "[0, 1, 2, 3, 4, 5, 6, 7, 8, 9, 10, 11, 12, 13, 14]"
            ]
          },
          "execution_count": 6,
          "metadata": {},
          "output_type": "execute_result"
        }
      ],
      "source": [
        "list(range(15))"
      ]
    },
    {
      "cell_type": "code",
      "execution_count": null,
      "metadata": {
        "id": "uJYybALqmC8c",
        "outputId": "1441a073-ca85-4c07-ba7a-782470ba6646"
      },
      "outputs": [
        {
          "data": {
            "text/plain": [
              "[2, 3, 4, 5, 6, 7, 8, 9, 10, 11, 12, 13, 14]"
            ]
          },
          "execution_count": 7,
          "metadata": {},
          "output_type": "execute_result"
        }
      ],
      "source": [
        "list(range(2, 15))"
      ]
    },
    {
      "cell_type": "code",
      "execution_count": null,
      "metadata": {
        "id": "tLb9fMxGmC8c",
        "outputId": "4ac26296-911c-43f5-f806-a9cebfaf3009"
      },
      "outputs": [
        {
          "data": {
            "text/plain": [
              "[0, 2, 4, 6, 8]"
            ]
          },
          "execution_count": 8,
          "metadata": {},
          "output_type": "execute_result"
        }
      ],
      "source": [
        "list(range(0, 10, 2))"
      ]
    },
    {
      "cell_type": "markdown",
      "metadata": {
        "id": "huTwA8f3mC8c"
      },
      "source": [
        "* 其他兩個範例。"
      ]
    },
    {
      "cell_type": "code",
      "execution_count": null,
      "metadata": {
        "id": "FweaeLDymC8c",
        "outputId": "3129cf37-7c84-48ef-d33c-6e133a437439"
      },
      "outputs": [
        {
          "data": {
            "text/plain": [
              "[-5, -4, -3, -2, -1, 0, 1, 2, 3, 4]"
            ]
          },
          "execution_count": 9,
          "metadata": {},
          "output_type": "execute_result"
        }
      ],
      "source": [
        "list(range(-5, 5))"
      ]
    },
    {
      "cell_type": "code",
      "execution_count": null,
      "metadata": {
        "id": "5vHnFxOTmC8c",
        "outputId": "4cb3f34b-749b-40ba-d211-e12d2f6677cf"
      },
      "outputs": [
        {
          "data": {
            "text/plain": [
              "[5, 4, 3, 2, 1, 0, -1, -2, -3, -4]"
            ]
          },
          "execution_count": 10,
          "metadata": {},
          "output_type": "execute_result"
        }
      ],
      "source": [
        "list(range(5, -5, -1))"
      ]
    },
    {
      "cell_type": "markdown",
      "metadata": {
        "id": "JmC3YP31mC8c"
      },
      "source": [
        "* 很多時候，`for` 迴圈會跟 `range()` 混用。例如："
      ]
    },
    {
      "cell_type": "code",
      "execution_count": null,
      "metadata": {
        "id": "_QSseDSZmC8c",
        "outputId": "bef24ee1-78ad-4d23-908b-b0112224475f"
      },
      "outputs": [
        {
          "name": "stdout",
          "output_type": "stream",
          "text": [
            "0 Pythons\n",
            "1 Pythons\n",
            "2 Pythons\n"
          ]
        }
      ],
      "source": [
        "for i in range(3):\n",
        "    print('%d Pythons' % i)"
      ]
    },
    {
      "cell_type": "markdown",
      "metadata": {
        "id": "Cld6GTj5mC8c"
      },
      "source": [
        "## 3.4 while 迴圈(while loop)\n",
        "\n",
        "* `while` 迴圈，也是一個常使用的的迴圈結構，不同的是，for loop 用來處裡已知圈數的迴圈，而 while loop 則用來處裡「不知要跑多少圈的迴圈」。\n",
        "* 以下為 for 迴圈的標準範例。（已經確定要跑四圈）"
      ]
    },
    {
      "cell_type": "code",
      "execution_count": null,
      "metadata": {
        "id": "x7wiBDicmC8c",
        "outputId": "edad4811-1c6f-49b0-9f44-745b21fc1d17"
      },
      "outputs": [
        {
          "name": "stdout",
          "output_type": "stream",
          "text": [
            "Hello!\n",
            "Hello!\n",
            "Hello!\n",
            "Hello!\n"
          ]
        }
      ],
      "source": [
        "for i in range(4):\n",
        "    print('Hello!')"
      ]
    },
    {
      "cell_type": "markdown",
      "metadata": {
        "id": "9WniXU8JmC8c"
      },
      "source": [
        "* while 迴圈，一般又稱作條件迴圈（conditional loop），當條件被滿足時，迴圈就會繼續，直到條件不滿足為止。"
      ]
    },
    {
      "cell_type": "markdown",
      "metadata": {
        "id": "JayW9vLsmC8c"
      },
      "source": [
        "* while 迴圈的最基本語法如下："
      ]
    },
    {
      "cell_type": "raw",
      "metadata": {
        "id": "qQiIg_GImC8c"
      },
      "source": [
        "while <test>:\n",
        "   <statements>"
      ]
    },
    {
      "cell_type": "markdown",
      "metadata": {
        "id": "IqQ7_vCsmC8c"
      },
      "source": [
        "* 例如：下面的函式會執行列印，直到n不在>0，而由於while loop不會自動變動判斷目標，所以迴圈最後一行將n 更新為n-1，讓迴圈的執行內容改變。"
      ]
    },
    {
      "cell_type": "code",
      "execution_count": null,
      "metadata": {
        "id": "rt0Fun_JmC8d",
        "outputId": "894fb0f0-c655-4bc5-c727-3663808bd1d9"
      },
      "outputs": [
        {
          "name": "stdout",
          "output_type": "stream",
          "text": [
            "3\n",
            "2\n",
            "1\n",
            "Blastoff!\n"
          ]
        }
      ],
      "source": [
        "n = 3\n",
        "while n > 0:\n",
        "    print(n)\n",
        "    n = n - 1\n",
        "print(\"Blastoff!\")"
      ]
    },
    {
      "cell_type": "code",
      "execution_count": null,
      "metadata": {
        "id": "ljOPl58HmC8d"
      },
      "outputs": [],
      "source": [
        "countdown(3)"
      ]
    },
    {
      "cell_type": "markdown",
      "metadata": {
        "id": "LKrgFTlumC8d"
      },
      "source": [
        "* (非常重要！！) while 執行的流程為：\n",
        " 1. 先進行條件的判斷，得到 True or False 的答案。\n",
        " 2. 如果判斷結果為False ，While 迴圈會結束。並且執行步驟直接跳到整個迴圈區塊結束的地方。\n",
        " 3. 如果判斷結果為True，迴圈內容會被執行，執行完後再回到步驟1看看還要不要繼續執行迴圈。"
      ]
    },
    {
      "cell_type": "markdown",
      "metadata": {
        "id": "mSbEnuc8mC8d"
      },
      "source": [
        "* 記住，由於while loop不會自動變動判斷目標條件值。因此迴圈內容必須適當地改變判斷目標，並且使迴圈有結束的一天，不然，就會變成無窮迴圈。"
      ]
    },
    {
      "cell_type": "markdown",
      "metadata": {
        "id": "aQmKBlJQmC8d"
      },
      "source": [
        "* 不過，在某些情況下，是有點不容易判斷迴圈是否一定會結束，例如："
      ]
    },
    {
      "cell_type": "code",
      "execution_count": null,
      "metadata": {
        "id": "NYgJONo3mC8d",
        "outputId": "93735ac0-bf73-47ce-ffbc-fc17211750c6"
      },
      "outputs": [
        {
          "name": "stdout",
          "output_type": "stream",
          "text": [
            "15462370351065316080402010516842"
          ]
        }
      ],
      "source": [
        "n = 15\n",
        "while n != 1:\n",
        "    print(\"%d\" % n, end=\"\")\n",
        "    if n % 2 == 0:  # n is even\n",
        "        n = n / 2\n",
        "    else:               # n is odd\n",
        "        n = n * 3 + 1"
      ]
    },
    {
      "cell_type": "markdown",
      "metadata": {
        "id": "sRpwbMgQmC8d"
      },
      "source": [
        "* 範例中的n值有時增加，有時減少，實在不一定馬上看出是否所有數字到最後都能==1"
      ]
    },
    {
      "cell_type": "markdown",
      "metadata": {
        "id": "0dKfEcPAmC8d"
      },
      "source": [
        "## 3.5 break\n",
        "\n",
        "* break 是 while 跟 for 的好朋友，遇到 break, 就會跳出當下的迴圈(只會跳出一層而已)。\n",
        "* 例如，我們可以用 while True 建立無限迴圈，而用 break 來終止執行。"
      ]
    },
    {
      "cell_type": "code",
      "execution_count": null,
      "metadata": {
        "id": "Hd4zKHaPmC8d",
        "outputId": "4ab1d62f-880c-4b4b-9aef-1f092ab58b2b"
      },
      "outputs": [
        {
          "ename": "KeyboardInterrupt",
          "evalue": "Interrupted by user",
          "output_type": "error",
          "traceback": [
            "\u001b[1;31m---------------------------------------------------------------------------\u001b[0m",
            "\u001b[1;31mKeyboardInterrupt\u001b[0m                         Traceback (most recent call last)",
            "Cell \u001b[1;32mIn[18], line 2\u001b[0m\n\u001b[0;32m      1\u001b[0m \u001b[38;5;28;01mwhile\u001b[39;00m \u001b[38;5;28;01mTrue\u001b[39;00m: \n\u001b[1;32m----> 2\u001b[0m     line \u001b[38;5;241m=\u001b[39m \u001b[38;5;28minput\u001b[39m(\u001b[38;5;124m'\u001b[39m\u001b[38;5;124m> \u001b[39m\u001b[38;5;124m'\u001b[39m) \n\u001b[0;32m      3\u001b[0m     \u001b[38;5;28;01mif\u001b[39;00m line \u001b[38;5;241m==\u001b[39m \u001b[38;5;124m'\u001b[39m\u001b[38;5;124mdone\u001b[39m\u001b[38;5;124m'\u001b[39m: \n\u001b[0;32m      4\u001b[0m         \u001b[38;5;28;01mbreak\u001b[39;00m \n",
            "File \u001b[1;32m~\\anaconda311\\Lib\\site-packages\\ipykernel\\kernelbase.py:1262\u001b[0m, in \u001b[0;36mKernel.raw_input\u001b[1;34m(self, prompt)\u001b[0m\n\u001b[0;32m   1260\u001b[0m     msg \u001b[38;5;241m=\u001b[39m \u001b[38;5;124m\"\u001b[39m\u001b[38;5;124mraw_input was called, but this frontend does not support input requests.\u001b[39m\u001b[38;5;124m\"\u001b[39m\n\u001b[0;32m   1261\u001b[0m     \u001b[38;5;28;01mraise\u001b[39;00m StdinNotImplementedError(msg)\n\u001b[1;32m-> 1262\u001b[0m \u001b[38;5;28;01mreturn\u001b[39;00m \u001b[38;5;28mself\u001b[39m\u001b[38;5;241m.\u001b[39m_input_request(\n\u001b[0;32m   1263\u001b[0m     \u001b[38;5;28mstr\u001b[39m(prompt),\n\u001b[0;32m   1264\u001b[0m     \u001b[38;5;28mself\u001b[39m\u001b[38;5;241m.\u001b[39m_parent_ident[\u001b[38;5;124m\"\u001b[39m\u001b[38;5;124mshell\u001b[39m\u001b[38;5;124m\"\u001b[39m],\n\u001b[0;32m   1265\u001b[0m     \u001b[38;5;28mself\u001b[39m\u001b[38;5;241m.\u001b[39mget_parent(\u001b[38;5;124m\"\u001b[39m\u001b[38;5;124mshell\u001b[39m\u001b[38;5;124m\"\u001b[39m),\n\u001b[0;32m   1266\u001b[0m     password\u001b[38;5;241m=\u001b[39m\u001b[38;5;28;01mFalse\u001b[39;00m,\n\u001b[0;32m   1267\u001b[0m )\n",
            "File \u001b[1;32m~\\anaconda311\\Lib\\site-packages\\ipykernel\\kernelbase.py:1305\u001b[0m, in \u001b[0;36mKernel._input_request\u001b[1;34m(self, prompt, ident, parent, password)\u001b[0m\n\u001b[0;32m   1302\u001b[0m \u001b[38;5;28;01mexcept\u001b[39;00m \u001b[38;5;167;01mKeyboardInterrupt\u001b[39;00m:\n\u001b[0;32m   1303\u001b[0m     \u001b[38;5;66;03m# re-raise KeyboardInterrupt, to truncate traceback\u001b[39;00m\n\u001b[0;32m   1304\u001b[0m     msg \u001b[38;5;241m=\u001b[39m \u001b[38;5;124m\"\u001b[39m\u001b[38;5;124mInterrupted by user\u001b[39m\u001b[38;5;124m\"\u001b[39m\n\u001b[1;32m-> 1305\u001b[0m     \u001b[38;5;28;01mraise\u001b[39;00m \u001b[38;5;167;01mKeyboardInterrupt\u001b[39;00m(msg) \u001b[38;5;28;01mfrom\u001b[39;00m \u001b[38;5;28;01mNone\u001b[39;00m\n\u001b[0;32m   1306\u001b[0m \u001b[38;5;28;01mexcept\u001b[39;00m \u001b[38;5;167;01mException\u001b[39;00m:\n\u001b[0;32m   1307\u001b[0m     \u001b[38;5;28mself\u001b[39m\u001b[38;5;241m.\u001b[39mlog\u001b[38;5;241m.\u001b[39mwarning(\u001b[38;5;124m\"\u001b[39m\u001b[38;5;124mInvalid Message:\u001b[39m\u001b[38;5;124m\"\u001b[39m, exc_info\u001b[38;5;241m=\u001b[39m\u001b[38;5;28;01mTrue\u001b[39;00m)\n",
            "\u001b[1;31mKeyboardInterrupt\u001b[0m: Interrupted by user"
          ]
        }
      ],
      "source": [
        "while True:\n",
        "    line = input('> ')\n",
        "    if line == 'done':\n",
        "        break\n",
        "    print(line)\n",
        "print('Done!')"
      ]
    },
    {
      "cell_type": "markdown",
      "metadata": {
        "id": "GA0u61YLmC8d"
      },
      "source": [
        "## 3.6  幾個重要的迴圈搭配指令  break, continue\n",
        "\n",
        "* **break**:  直接跳出一層迴圈。迴圈會終止。\n",
        "* **continue**: 遇到continue 時，本圈結束，直接開始下一圈，但迴圈不會終止"
      ]
    },
    {
      "cell_type": "markdown",
      "metadata": {
        "id": "eG1VdEEjmC8d"
      },
      "source": [
        "* 例如："
      ]
    },
    {
      "cell_type": "code",
      "execution_count": null,
      "metadata": {
        "id": "zppVGY7umC8d"
      },
      "outputs": [],
      "source": [
        "prod = 1\n",
        "for item in [1, 2, 3, 4]:\n",
        "    if item % 2 != 0:\n",
        "        continue\n",
        "    prod *= item\n",
        "\n",
        "print(prod)"
      ]
    },
    {
      "cell_type": "code",
      "execution_count": null,
      "metadata": {
        "id": "DDU5LlkYmC8d"
      },
      "outputs": [],
      "source": [
        "x = 10\n",
        "while True:\n",
        "    x = x - 1                # 每次都讓x-1\n",
        "    if x % 2 != 0:\n",
        "        continue           # 如果是奇數，啥事都不做，直接換下一筆進行處裡。\n",
        "    print(x)\n",
        "    if x == 0:\n",
        "        break                # 如果是x==0，離開迴圈。"
      ]
    },
    {
      "cell_type": "markdown",
      "metadata": {
        "id": "7u_-8PzKmC8i"
      },
      "source": [
        "## 課堂練習\n",
        "\n",
        "1. 寫程式計算 1 ~ 100 中的所有奇數和"
      ]
    },
    {
      "cell_type": "code",
      "execution_count": null,
      "metadata": {
        "id": "_5G1sS5CmC8i",
        "outputId": "a82bfcaf-cd20-4481-f9dd-4f86434766a6"
      },
      "outputs": [
        {
          "name": "stdout",
          "output_type": "stream",
          "text": [
            "2500\n"
          ]
        }
      ],
      "source": [
        "x = 0\n",
        "for y in range(1,100,2):\n",
        "    x = x + y\n",
        "print(x)"
      ]
    },
    {
      "cell_type": "markdown",
      "metadata": {
        "id": "6u-um3pImC8i"
      },
      "source": [
        "2. 九九乘法表\n",
        "\n",
        "不換行列印的方法：  `print(x, end='')`"
      ]
    },
    {
      "cell_type": "code",
      "execution_count": 7,
      "metadata": {
        "colab": {
          "base_uri": "https://localhost:8080/"
        },
        "id": "Q_DrKp0hmC8i",
        "outputId": "6c4f1ea1-ec3a-4e40-e786-152e6a9b57f6"
      },
      "outputs": [
        {
          "output_type": "stream",
          "name": "stdout",
          "text": [
            "1 * 1 = 1  2 * 1 = 2  3 * 1 = 3  4 * 1 = 4  5 * 1 = 5  6 * 1 = 6  7 * 1 = 7  8 * 1 = 8  9 * 1 = 9  \n",
            "1 * 2 = 2  2 * 2 = 4  3 * 2 = 6  4 * 2 = 8  5 * 2 = 10  6 * 2 = 12  7 * 2 = 14  8 * 2 = 16  9 * 2 = 18  \n",
            "1 * 3 = 3  2 * 3 = 6  3 * 3 = 9  4 * 3 = 12  5 * 3 = 15  6 * 3 = 18  7 * 3 = 21  8 * 3 = 24  9 * 3 = 27  \n",
            "1 * 4 = 4  2 * 4 = 8  3 * 4 = 12  4 * 4 = 16  5 * 4 = 20  6 * 4 = 24  7 * 4 = 28  8 * 4 = 32  9 * 4 = 36  \n",
            "1 * 5 = 5  2 * 5 = 10  3 * 5 = 15  4 * 5 = 20  5 * 5 = 25  6 * 5 = 30  7 * 5 = 35  8 * 5 = 40  9 * 5 = 45  \n",
            "1 * 6 = 6  2 * 6 = 12  3 * 6 = 18  4 * 6 = 24  5 * 6 = 30  6 * 6 = 36  7 * 6 = 42  8 * 6 = 48  9 * 6 = 54  \n",
            "1 * 7 = 7  2 * 7 = 14  3 * 7 = 21  4 * 7 = 28  5 * 7 = 35  6 * 7 = 42  7 * 7 = 49  8 * 7 = 56  9 * 7 = 63  \n",
            "1 * 8 = 8  2 * 8 = 16  3 * 8 = 24  4 * 8 = 32  5 * 8 = 40  6 * 8 = 48  7 * 8 = 56  8 * 8 = 64  9 * 8 = 72  \n",
            "1 * 9 = 9  2 * 9 = 18  3 * 9 = 27  4 * 9 = 36  5 * 9 = 45  6 * 9 = 54  7 * 9 = 63  8 * 9 = 72  9 * 9 = 81  \n"
          ]
        }
      ],
      "source": [
        "x=0\n",
        "y=0\n",
        "for x in range(1,10):\n",
        "  for y in range(1,10):\n",
        "    print (\"%d * %d = %d  \"%(y,x,x*y),end='')\n",
        "  print()"
      ]
    },
    {
      "cell_type": "markdown",
      "metadata": {
        "id": "wGGzniXvmC8i"
      },
      "source": [
        "3. 某班學生人數不詳，欲輸入每一個學生成績，當輸入 -1 時表示結束輸入，然後顯示出全班人數、及格人數、不及格人數、以及全班平均值。"
      ]
    },
    {
      "cell_type": "code",
      "execution_count": 22,
      "metadata": {
        "colab": {
          "base_uri": "https://localhost:8080/"
        },
        "id": "cmYiRWwBmC8i",
        "outputId": "e604593e-3b58-4784-fa65-a930e06a27ef"
      },
      "outputs": [
        {
          "output_type": "stream",
          "name": "stdout",
          "text": [
            "請輸入成績:(輸入-1結束):78\n",
            "請輸入成績:(輸入-1結束):99\n",
            "請輸入成績:(輸入-1結束):56\n",
            "請輸入成績:(輸入-1結束):97\n",
            "請輸入成績:(輸入-1結束):93\n",
            "請輸入成績:(輸入-1結束):-1\n",
            "全班人數: 5\n",
            "及格人數: 4\n",
            "不及格人數: 16\n",
            "全班平均值: 84.6\n"
          ]
        }
      ],
      "source": [
        "count=0\n",
        "total=0\n",
        "passc=0\n",
        "failc=0\n",
        "while True:\n",
        "  score = int(input('請輸入成績:(輸入-1結束):'))\n",
        "  if score == -1:\n",
        "    break\n",
        "  total += score\n",
        "  count += 1\n",
        "  if score >= 60:\n",
        "    passc += 1\n",
        "  else:\n",
        "    failc += 16\n",
        "  avr = total / count\n",
        "print(\"全班人數:\",count)\n",
        "print(\"及格人數:\",passc)\n",
        "print(\"不及格人數:\",failc)\n",
        "print(\"全班平均值:\",avr)\n"
      ]
    },
    {
      "cell_type": "markdown",
      "metadata": {
        "id": "cQhqeN6BmC8i"
      },
      "source": [
        "4. 印星星(一):"
      ]
    },
    {
      "cell_type": "raw",
      "metadata": {
        "id": "ahXxdglWmC8i"
      },
      "source": [
        "*\n",
        "**\n",
        "***\n",
        "****"
      ]
    },
    {
      "cell_type": "code",
      "execution_count": 11,
      "metadata": {
        "colab": {
          "base_uri": "https://localhost:8080/"
        },
        "id": "pccUWuQkmC8j",
        "outputId": "f5d1e026-9a90-4503-b1d7-3582466d9c3c"
      },
      "outputs": [
        {
          "output_type": "stream",
          "name": "stdout",
          "text": [
            "*\n",
            "**\n",
            "***\n",
            "****\n"
          ]
        }
      ],
      "source": [
        "x=1\n",
        "while x<5:\n",
        "  print(x*'*')\n",
        "  x=x+1"
      ]
    },
    {
      "cell_type": "markdown",
      "metadata": {
        "id": "P9sUmPRzmC8j"
      },
      "source": [
        "5. 印星星(二):"
      ]
    },
    {
      "cell_type": "raw",
      "metadata": {
        "id": "k-yZluHmmC8j"
      },
      "source": [
        "****\n",
        "***\n",
        "**\n",
        "*"
      ]
    },
    {
      "cell_type": "code",
      "execution_count": 15,
      "metadata": {
        "colab": {
          "base_uri": "https://localhost:8080/"
        },
        "id": "ukw7QYctmC8j",
        "outputId": "59ee911b-8a01-43cb-fb5b-e5d300abd2b5"
      },
      "outputs": [
        {
          "output_type": "stream",
          "name": "stdout",
          "text": [
            "****\n",
            "***\n",
            "**\n",
            "*\n"
          ]
        }
      ],
      "source": [
        "x=4\n",
        "while x>0:\n",
        "  print(x*'*')\n",
        "  x=x-1"
      ]
    },
    {
      "cell_type": "markdown",
      "metadata": {
        "id": "ZgLskA07mC8j"
      },
      "source": [
        "6. 印星星(三):"
      ]
    },
    {
      "cell_type": "raw",
      "metadata": {
        "id": "8YTFHanKmC8j"
      },
      "source": [
        "  *\n",
        " ***\n",
        "*****\n",
        " ***\n",
        "  *"
      ]
    },
    {
      "cell_type": "code",
      "execution_count": 19,
      "metadata": {
        "colab": {
          "base_uri": "https://localhost:8080/"
        },
        "id": "sQJZ3ohKmC8j",
        "outputId": "27c5fd99-4704-493c-a0bc-c94cb7f20aa6"
      },
      "outputs": [
        {
          "output_type": "stream",
          "name": "stdout",
          "text": [
            "    *\n",
            "  ***\n",
            "*****\n",
            "  ***\n",
            "    *\n"
          ]
        }
      ],
      "source": [
        "x=1\n",
        "while x<=9:\n",
        "  if x<=5:\n",
        "    print(' '*(5-x)+'*'*x)\n",
        "  else:\n",
        "    print(' '*(x-5)+'*'*(10-x))\n",
        "  x=x+2"
      ]
    }
  ],
  "metadata": {
    "kernelspec": {
      "display_name": "Python 3 (ipykernel)",
      "language": "python",
      "name": "python3"
    },
    "language_info": {
      "codemirror_mode": {
        "name": "ipython",
        "version": 3
      },
      "file_extension": ".py",
      "mimetype": "text/x-python",
      "name": "python",
      "nbconvert_exporter": "python",
      "pygments_lexer": "ipython3",
      "version": "3.11.7"
    },
    "colab": {
      "provenance": []
    }
  },
  "nbformat": 4,
  "nbformat_minor": 0
}