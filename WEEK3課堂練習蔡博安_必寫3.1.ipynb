{
  "nbformat": 4,
  "nbformat_minor": 0,
  "metadata": {
    "colab": {
      "provenance": [],
      "authorship_tag": "ABX9TyNNEIQN0Sl29CiRQqvYzo+l",
      "include_colab_link": true
    },
    "kernelspec": {
      "name": "python3",
      "display_name": "Python 3"
    },
    "language_info": {
      "name": "python"
    }
  },
  "cells": [
    {
      "cell_type": "markdown",
      "metadata": {
        "id": "view-in-github",
        "colab_type": "text"
      },
      "source": [
        "<a href=\"https://colab.research.google.com/github/mafuyu0607/shungoo/blob/main/WEEK3%E8%AA%B2%E5%A0%82%E7%B7%B4%E7%BF%92_%E5%BF%85%E5%AF%AB3_1.ipynb\" target=\"_parent\"><img src=\"https://colab.research.google.com/assets/colab-badge.svg\" alt=\"Open In Colab\"/></a>"
      ]
    },
    {
      "cell_type": "markdown",
      "source": [
        "1.寫程式計算 1 ~ 100 中的所有奇數和"
      ],
      "metadata": {
        "id": "a3YGheqXvnSm"
      }
    },
    {
      "cell_type": "code",
      "source": [
        "x = 0\n",
        "for y in range(1,100,2):\n",
        "    x = x + y\n",
        "print(x)"
      ],
      "metadata": {
        "colab": {
          "base_uri": "https://localhost:8080/"
        },
        "id": "T6QrmSBgvvAY",
        "outputId": "f37be8bf-5137-4060-c02a-d425829bab48"
      },
      "execution_count": null,
      "outputs": [
        {
          "output_type": "stream",
          "name": "stdout",
          "text": [
            "2500\n"
          ]
        }
      ]
    }
  ]
}
