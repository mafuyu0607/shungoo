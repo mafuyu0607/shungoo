{
 "cells": [
  {
   "cell_type": "markdown",
   "metadata": {},
   "source": [
    "# Jieba 結巴"
   ]
  },
  {
   "cell_type": "markdown",
   "metadata": {},
   "source": [
    "我們先來安裝結巴："
   ]
  },
  {
   "cell_type": "code",
   "execution_count": 1,
   "metadata": {},
   "outputs": [
    {
     "name": "stdout",
     "output_type": "stream",
     "text": [
      "Requirement already satisfied: jieba in c:\\users\\uer\\anaconda311\\lib\\site-packages (0.42.1)\n"
     ]
    }
   ],
   "source": [
    "!pip install jieba"
   ]
  },
  {
   "cell_type": "markdown",
   "metadata": {},
   "source": [
    "安裝好Jieba之後，要使用Jieba就和一般的Python套件一樣，需要先import載入："
   ]
  },
  {
   "cell_type": "code",
   "execution_count": 14,
   "metadata": {},
   "outputs": [],
   "source": [
    "import jieba"
   ]
  },
  {
   "cell_type": "markdown",
   "metadata": {},
   "source": [
    "## 1.1 Jieba 分詞\n",
    "\n",
    "要利用Jieba進行分詞，我們只要呼叫它的`cut()`函式就行："
   ]
  },
  {
   "cell_type": "code",
   "execution_count": 15,
   "metadata": {},
   "outputs": [],
   "source": [
    "seg_list = jieba.cut(\"我愛自然語言處理\")"
   ]
  },
  {
   "cell_type": "markdown",
   "metadata": {},
   "source": [
    "`cut()`函式會傳回一個清單的generator，我們可以把它轉成清單印出來看看："
   ]
  },
  {
   "cell_type": "code",
   "execution_count": 16,
   "metadata": {},
   "outputs": [
    {
     "name": "stdout",
     "output_type": "stream",
     "text": [
      "['我', '愛', '自然語言處理']\n"
     ]
    }
   ],
   "source": [
    "print(list(seg_list))"
   ]
  },
  {
   "cell_type": "markdown",
   "metadata": {},
   "source": [
    "你會發現Jieba把「自然語言處理」斷成「自然」「語言」「處理」了，因為它不知道有「自然語言處理」這個詞。\n",
    "\n",
    "在Jieba之中，我們可以呼叫 `add_word()` 函式，自己新增詞條到字典裡面："
   ]
  },
  {
   "cell_type": "code",
   "execution_count": 17,
   "metadata": {},
   "outputs": [],
   "source": [
    "jieba.add_word(\"自然語言處理\")"
   ]
  },
  {
   "cell_type": "markdown",
   "metadata": {},
   "source": [
    "這時候我們再來斷同樣一句試試看："
   ]
  },
  {
   "cell_type": "code",
   "execution_count": 18,
   "metadata": {},
   "outputs": [
    {
     "name": "stdout",
     "output_type": "stream",
     "text": [
      "['我', '愛', '自然語言處理']\n"
     ]
    }
   ],
   "source": [
    "seg_list = jieba.cut(\"我愛自然語言處理\")\n",
    "print(list(seg_list))"
   ]
  },
  {
   "cell_type": "markdown",
   "metadata": {},
   "source": [
    "你看，自然語言處理已經被斷成一個詞了！"
   ]
  },
  {
   "cell_type": "markdown",
   "metadata": {},
   "source": [
    "## 1.2 Jieba分詞模式"
   ]
  },
  {
   "cell_type": "markdown",
   "metadata": {},
   "source": [
    "我們剛剛已經學會使用Jieba提供的`cut()`函式來進行分詞了，不過在Jieba的分詞其實有三種模式：\n",
    "1. 精確模式\n",
    " * 將句子裡面的詞以最精確的方式分開，結巴會找出最佳的斷法，預設是這個模式，適合文本分析使用\n",
    "2. 全模式\n",
    " * 結巴會把所有可能找到的詞都吐出來\n",
    "3. 搜尋引擎模式\n",
    " * 結巴會把比較長的詞也再進一步斷開，適合作為產生搜尋引擎的查詢關鍵字使用。\n",
    " \n",
    " 我們實際上來試試看這三種模式，首先是我們已經會用的精確模式："
   ]
  },
  {
   "cell_type": "code",
   "execution_count": 19,
   "metadata": {},
   "outputs": [
    {
     "name": "stdout",
     "output_type": "stream",
     "text": [
      "['國立', '臺', '灣', '博物', '館', '的', '前身', '是', '臺', '灣總', '督府', '博物', '館']\n"
     ]
    }
   ],
   "source": [
    "seg_list = jieba.cut(\"國立臺灣博物館的前身是臺灣總督府博物館\")\n",
    "print(list(seg_list))"
   ]
  },
  {
   "cell_type": "markdown",
   "metadata": {},
   "source": [
    "你會發現這次結巴的分詞結果感覺很差，它連「臺灣」和「博物館」這麼基本的詞都認不出來。這是因為結巴內建的詞庫是以簡體中文為主的，對於繁體中文的處理並不是很好。如果我們希望結巴能對於繁體中文的分詞能做得好一點，我們可以指定Jieba要使用的詞庫。\n",
    "\n",
    "結巴官網提供了一個叫作 `dict.txt.big` 的詞庫檔案，包含了完整的簡體與繁體中文詞庫，我們下載下來後，可以用Jieba提供的`set_dictionary()`函式來設定詞庫："
   ]
  },
  {
   "cell_type": "code",
   "execution_count": 20,
   "metadata": {},
   "outputs": [],
   "source": [
    "jieba.set_dictionary('dict.txt.big')"
   ]
  },
  {
   "cell_type": "markdown",
   "metadata": {},
   "source": [
    "好了，這時候我們再來試一下剛剛的句子："
   ]
  },
  {
   "cell_type": "code",
   "execution_count": 21,
   "metadata": {},
   "outputs": [
    {
     "name": "stderr",
     "output_type": "stream",
     "text": [
      "Building prefix dict from C:\\Users\\uer\\Downloads\\dict.txt.big ...\n",
      "Dumping model to file cache C:\\Users\\uer\\AppData\\Local\\Temp\\jieba.u0989b21169c193305f7530ecd8e62ece.cache\n",
      "Loading model cost 0.935 seconds.\n",
      "Prefix dict has been built successfully.\n"
     ]
    },
    {
     "name": "stdout",
     "output_type": "stream",
     "text": [
      "['國立', '臺灣', '博物館', '的', '前身', '是', '臺灣', '總督府', '博物館']\n"
     ]
    }
   ],
   "source": [
    "seg_list = jieba.cut(\"國立臺灣博物館的前身是臺灣總督府博物館\")\n",
    "print(list(seg_list))"
   ]
  },
  {
   "cell_type": "markdown",
   "metadata": {},
   "source": [
    "你看，這次分詞的結果是不是好多了！\n",
    "\n",
    "接下來我們來試試看「全模式」，要使用全模式，只要在`cut()`函式裡面加上`cut_all=True`的參數就行，就像這樣："
   ]
  },
  {
   "cell_type": "code",
   "execution_count": 22,
   "metadata": {},
   "outputs": [
    {
     "name": "stdout",
     "output_type": "stream",
     "text": [
      "['國立', '臺灣', '博物', '博物館', '的', '前身', '是', '臺灣', '總督', '總督府', '督府', '博物', '博物館']\n"
     ]
    }
   ],
   "source": [
    "seg_list = jieba.cut(\"國立臺灣博物館的前身是臺灣總督府博物館\", cut_all=True)\n",
    "print(list(seg_list))"
   ]
  },
  {
   "cell_type": "markdown",
   "metadata": {},
   "source": [
    "你會發現結巴對於「博物館」這個詞吐出了「博物」和「博物館」，「總督府」這個詞吐出了「總督」「總督府」和「督府」。這是因為這些都是結巴在它的分詞演算法處理的過程之中發現的所有可能之組合，使用全模式就會把它們全部都列出來，而精確模式時，結巴會選擇「博物館」與「總督府」的組合作為最佳的答案。\n",
    "\n",
    "接下來我們來看一下最後一種模式「搜尋引擎模式」，要使用這個模式，我們不能再用原本的`cut()`函式，我們要換成`cut_for_search()`："
   ]
  },
  {
   "cell_type": "code",
   "execution_count": 23,
   "metadata": {},
   "outputs": [
    {
     "name": "stdout",
     "output_type": "stream",
     "text": [
      "['國立', '臺灣', '博物', '博物館', '的', '前身', '是', '臺灣', '總督', '督府', '總督府', '博物', '博物館']\n"
     ]
    }
   ],
   "source": [
    "seg_list = jieba.cut_for_search(\"國立臺灣博物館的前身是臺灣總督府博物館\")\n",
    "print(list(seg_list))"
   ]
  },
  {
   "cell_type": "markdown",
   "metadata": {},
   "source": [
    "這個...搜尋引擎模式和全模式看起來沒有什麼不同嘛！好吧，這是因為這句話沒什麼差別，我們換一句來試試看："
   ]
  },
  {
   "cell_type": "code",
   "execution_count": 24,
   "metadata": {},
   "outputs": [
    {
     "name": "stdout",
     "output_type": "stream",
     "text": [
      "精確模式: ['小明', '碩士', '畢業', '於', '國立', '臺灣大學', '，', '後', '在', '日本京都大學', '深造']\n",
      "全模式: ['小', '明', '碩士', '畢業', '於', '國立', '臺灣', '臺灣大學', '大學', '，', '後', '在', '日本', '日本京都大學', '京都', '京都大學', '大學', '深造']\n",
      "搜尋引擎模式: ['小明', '碩士', '畢業', '於', '國立', '臺灣', '大學', '臺灣大學', '，', '後', '在', '日本', '京都', '大學', '日本京都大學', '深造']\n"
     ]
    }
   ],
   "source": [
    "seg_list = jieba.cut(\"小明碩士畢業於國立臺灣大學，後在日本京都大學深造\")\n",
    "print(\"精確模式: {0}\".format(list(seg_list)))\n",
    "seg_list = jieba.cut(\"小明碩士畢業於國立臺灣大學，後在日本京都大學深造\", cut_all=True)\n",
    "print(\"全模式: {0}\".format(list(seg_list)))\n",
    "seg_list = jieba.cut_for_search(\"小明碩士畢業於國立臺灣大學，後在日本京都大學深造\")\n",
    "print(\"搜尋引擎模式: {0}\".format(list(seg_list)))"
   ]
  },
  {
   "cell_type": "markdown",
   "metadata": {},
   "source": [
    "## 1.3 Jieba使用者自定詞典\n",
    "\n",
    "在前面我們學到Jieba提供了`add_word()`函式可以動態把我們想要的詞加入詞典，其實它也提供了`del_word()`的函式，可以動態地把某一個詞從詞典裡刪除。但是這些增刪都只在當下有效，Python關閉之後就什麼也都不記得了。而且，如果我們想要加入的詞很多，一個一個加進去了太累了。\n",
    "\n",
    "其實，就像`set_dictionary()`函式用來切換載入詞典檔一樣，Jieba也提供了一個叫作`load_userdict()`的函式，可以額外載入我們自定的詞典。本次上課我們提供了一個自定詞典的範例檔案 `userdict.txt`，就是結巴可用的自定詞典。\n",
    "\n",
    "自定詞典的檔案格式很簡單，是一個用UTF-8編碼的文字檔，每一行就是一個詞，而每一個有三個欄位，每個欄位用空白隔開：\n",
    "1. 詞\n",
    "2. 詞頻 (可省略)\n",
    "3. 詞性 (可省略)\n",
    "\n",
    "像是這樣：\n",
    "```\n",
    "法鼓文理學院 5 nt\n",
    "自然語言處理 30 nl\n",
    "德仁 10 nr\n",
    "即位禮正殿之儀\n",
    "```\n",
    "\n",
    "詞頻和詞性若不知道可以省略，不要亂打，不然會影響Jieba演算法的正確率。詞性的標注方法是依據中國的[ictclas兼容的表記法](https://gist.github.com/luw2007/6016931)。\n",
    "\n",
    "我們先來看看在還沒載入我們的自定詞典之前，結巴對於下面兩句話的分詞結果："
   ]
  },
  {
   "cell_type": "code",
   "execution_count": 25,
   "metadata": {},
   "outputs": [
    {
     "name": "stdout",
     "output_type": "stream",
     "text": [
      "['法鼓', '文理學院', '舉辦', '演講', '活動']\n",
      "['日本', '德', '仁天皇', '「', '即位', '禮', '正殿', '之儀', '」', '！', '各國', '皇室', '成員', '出席']\n"
     ]
    }
   ],
   "source": [
    "seg_list = jieba.cut(\"法鼓文理學院舉辦演講活動\")\n",
    "print(list(seg_list))\n",
    "seg_list = jieba.cut(\"日本德仁天皇「即位禮正殿之儀」！各國皇室成員出席\")\n",
    "print(list(seg_list))"
   ]
  },
  {
   "cell_type": "markdown",
   "metadata": {},
   "source": [
    "我們發現「法鼓文理學院」被斷成兩個詞，而日本今上天皇的名字「德仁」也被斷錯了，此外結巴也不認得「即位禮正殿之儀」這個詞。\n",
    "\n",
    "我們接下來載入我們自定義的詞典："
   ]
  },
  {
   "cell_type": "code",
   "execution_count": 26,
   "metadata": {},
   "outputs": [],
   "source": [
    "jieba.load_userdict('userdict.txt')"
   ]
  },
  {
   "cell_type": "markdown",
   "metadata": {},
   "source": [
    "載入完之後，我們再來斷同樣的兩句話："
   ]
  },
  {
   "cell_type": "code",
   "execution_count": 27,
   "metadata": {},
   "outputs": [
    {
     "name": "stdout",
     "output_type": "stream",
     "text": [
      "['法鼓文理學院', '舉辦', '演講', '活動']\n",
      "['日本', '德', '仁天皇', '「', '即位禮正殿之儀', '」', '！', '各國', '皇室', '成員', '出席']\n"
     ]
    }
   ],
   "source": [
    "seg_list = jieba.cut(\"法鼓文理學院舉辦演講活動\")\n",
    "print(list(seg_list))\n",
    "seg_list = jieba.cut(\"日本德仁天皇「即位禮正殿之儀」！各國皇室成員出席\")\n",
    "print(list(seg_list))"
   ]
  },
  {
   "cell_type": "markdown",
   "metadata": {},
   "source": [
    "「法鼓文理學院」及「即位禮正殿之儀」被正確地斷出來了！但是天皇的名字仍然怪怪的，這是因為原本的內建詞庫裡面有一個「仁天皇」的詞，所以結巴還是選擇斷成「德/仁天皇」\n",
    "\n",
    "如果我們希望結巴能正確地處理天皇的名字，我們可以建議結巴把「仁天皇」這個詞分開，這時就要用到`suggest_freq()`函式了，就像這樣："
   ]
  },
  {
   "cell_type": "code",
   "execution_count": 28,
   "metadata": {},
   "outputs": [
    {
     "data": {
      "text/plain": [
       "0"
      ]
     },
     "execution_count": 28,
     "metadata": {},
     "output_type": "execute_result"
    }
   ],
   "source": [
    "jieba.suggest_freq(('仁', '天皇'), tune=True)"
   ]
  },
  {
   "cell_type": "code",
   "execution_count": 29,
   "metadata": {},
   "outputs": [
    {
     "name": "stdout",
     "output_type": "stream",
     "text": [
      "['日本', '德仁', '天皇', '「', '即位禮正殿之儀', '」', '！', '各國', '皇室', '成員', '出席']\n"
     ]
    }
   ],
   "source": [
    "seg_list = jieba.cut(\"日本德仁天皇「即位禮正殿之儀」！各國皇室成員出席\")\n",
    "print(list(seg_list))"
   ]
  },
  {
   "cell_type": "markdown",
   "metadata": {},
   "source": [
    "## 1.4 Jieba 詞性標注"
   ]
  },
  {
   "cell_type": "markdown",
   "metadata": {},
   "source": [
    "目前的Jieba套件也有提供詞性標注的功能，除了分詞之外也會一併提供詞性。要利用結巴的詞性標注，我們要先載入相應的套件："
   ]
  },
  {
   "cell_type": "code",
   "execution_count": 38,
   "metadata": {},
   "outputs": [],
   "source": [
    "import jieba.posseg as pseg"
   ]
  },
  {
   "cell_type": "markdown",
   "metadata": {},
   "source": [
    "要進行詞性標注，我們呼叫的是 `jieba.posseg` 提供的 `cut()` 函式："
   ]
  },
  {
   "cell_type": "code",
   "execution_count": 39,
   "metadata": {},
   "outputs": [],
   "source": [
    "words = pseg.cut(\"我每天都要吃義大利麵\")"
   ]
  },
  {
   "cell_type": "markdown",
   "metadata": {},
   "source": [
    "`cut()` 函式傳回來的是一個由詞與詞性所構成的 tuple 的清單 generator，我們利用迴圈印出來試試看："
   ]
  },
  {
   "cell_type": "code",
   "execution_count": 40,
   "metadata": {},
   "outputs": [
    {
     "name": "stdout",
     "output_type": "stream",
     "text": [
      "我 r\n",
      "每天 r\n",
      "都 d\n",
      "要 v\n",
      "吃 v\n",
      "義大利 nz\n",
      "麵 zg\n"
     ]
    }
   ],
   "source": [
    "for word, flag in words:\n",
    "    print(\"{0} {1}\".format(word, flag))"
   ]
  },
  {
   "cell_type": "markdown",
   "metadata": {},
   "source": [
    "## 課堂練習\n",
    "\n",
    "1. 從網路上找一篇中文的新聞，利用Jieba進行斷詞"
   ]
  },
  {
   "cell_type": "code",
   "execution_count": null,
   "metadata": {},
   "outputs": [],
   "source": []
  },
  {
   "cell_type": "markdown",
   "metadata": {},
   "source": [
    "2. 請利用本次上課所提供的2024年總統就職演講稿 `speech.txt`，讀入檔案後利用Jieba進行斷詞，統計總統在演講裡面用詞的頻率，並輸出成CSV檔案。"
   ]
  },
  {
   "cell_type": "code",
   "execution_count": 41,
   "metadata": {},
   "outputs": [],
   "source": [
    "with open('speech.txt', 'r', encoding='utf-8') as f:\n",
    "    content = f.read()\n",
    "    word = jieba.cut(content)\n",
    "\n",
    "    d = {}\n",
    "    for w in words:\n",
    "        if w in d:\n",
    "            d[w] +=1\n",
    "        else:\n",
    "            d[w] =1\n",
    "    with open('stat.csv','w',encoding='utf-8') as outf:\n",
    "        outf.write(\"word,freq\\n\")\n",
    "        for w in d:\n",
    "            outf.write(f\"{w},{d[w]}\\n\")"
   ]
  },
  {
   "cell_type": "markdown",
   "metadata": {},
   "source": [
    "3. 從CBETA Online裡面找一段經文，利用Jieba進行斷詞，看看會有什麼結果\n",
    "https://cbetaonline.dila.edu.tw"
   ]
  },
  {
   "cell_type": "code",
   "execution_count": null,
   "metadata": {},
   "outputs": [],
   "source": []
  }
 ],
 "metadata": {
  "kernelspec": {
   "display_name": "Python 3 (ipykernel)",
   "language": "python",
   "name": "python3"
  },
  "language_info": {
   "codemirror_mode": {
    "name": "ipython",
    "version": 3
   },
   "file_extension": ".py",
   "mimetype": "text/x-python",
   "name": "python",
   "nbconvert_exporter": "python",
   "pygments_lexer": "ipython3",
   "version": "3.11.7"
  }
 },
 "nbformat": 4,
 "nbformat_minor": 4
}
