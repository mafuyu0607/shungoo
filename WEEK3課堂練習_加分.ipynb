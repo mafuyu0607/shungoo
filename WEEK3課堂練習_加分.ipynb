{
  "nbformat": 4,
  "nbformat_minor": 0,
  "metadata": {
    "colab": {
      "provenance": [],
      "authorship_tag": "ABX9TyPb0spv8VGsOWFKqZTrxXdc",
      "include_colab_link": true
    },
    "kernelspec": {
      "name": "python3",
      "display_name": "Python 3"
    },
    "language_info": {
      "name": "python"
    }
  },
  "cells": [
    {
      "cell_type": "markdown",
      "metadata": {
        "id": "view-in-github",
        "colab_type": "text"
      },
      "source": [
        "<a href=\"https://colab.research.google.com/github/mafuyu0607/shungoo/blob/main/WEEK3%E8%AA%B2%E5%A0%82%E7%B7%B4%E7%BF%92_%E5%8A%A0%E5%88%86.ipynb\" target=\"_parent\"><img src=\"https://colab.research.google.com/assets/colab-badge.svg\" alt=\"Open In Colab\"/></a>"
      ]
    },
    {
      "cell_type": "markdown",
      "source": [
        "2.九九乘法表\n",
        "不換行列印的方法： print(x, end='')"
      ],
      "metadata": {
        "id": "dr5VxroOwbPl"
      }
    },
    {
      "cell_type": "code",
      "source": [
        "x=0\n",
        "y=0\n",
        "for x in range(1,10):\n",
        "  for y in range(1,10):\n",
        "    print (\"%d * %d = %d  \"%(y,x,x*y),end='')\n",
        "  print()"
      ],
      "metadata": {
        "colab": {
          "base_uri": "https://localhost:8080/"
        },
        "id": "d3fOYtITws4H",
        "outputId": "b5fa543d-cc26-4f46-82ad-6de596077fa4"
      },
      "execution_count": 5,
      "outputs": [
        {
          "output_type": "stream",
          "name": "stdout",
          "text": [
            "1 * 1 = 1  2 * 1 = 2  3 * 1 = 3  4 * 1 = 4  5 * 1 = 5  6 * 1 = 6  7 * 1 = 7  8 * 1 = 8  9 * 1 = 9  \n",
            "1 * 2 = 2  2 * 2 = 4  3 * 2 = 6  4 * 2 = 8  5 * 2 = 10  6 * 2 = 12  7 * 2 = 14  8 * 2 = 16  9 * 2 = 18  \n",
            "1 * 3 = 3  2 * 3 = 6  3 * 3 = 9  4 * 3 = 12  5 * 3 = 15  6 * 3 = 18  7 * 3 = 21  8 * 3 = 24  9 * 3 = 27  \n",
            "1 * 4 = 4  2 * 4 = 8  3 * 4 = 12  4 * 4 = 16  5 * 4 = 20  6 * 4 = 24  7 * 4 = 28  8 * 4 = 32  9 * 4 = 36  \n",
            "1 * 5 = 5  2 * 5 = 10  3 * 5 = 15  4 * 5 = 20  5 * 5 = 25  6 * 5 = 30  7 * 5 = 35  8 * 5 = 40  9 * 5 = 45  \n",
            "1 * 6 = 6  2 * 6 = 12  3 * 6 = 18  4 * 6 = 24  5 * 6 = 30  6 * 6 = 36  7 * 6 = 42  8 * 6 = 48  9 * 6 = 54  \n",
            "1 * 7 = 7  2 * 7 = 14  3 * 7 = 21  4 * 7 = 28  5 * 7 = 35  6 * 7 = 42  7 * 7 = 49  8 * 7 = 56  9 * 7 = 63  \n",
            "1 * 8 = 8  2 * 8 = 16  3 * 8 = 24  4 * 8 = 32  5 * 8 = 40  6 * 8 = 48  7 * 8 = 56  8 * 8 = 64  9 * 8 = 72  \n",
            "1 * 9 = 9  2 * 9 = 18  3 * 9 = 27  4 * 9 = 36  5 * 9 = 45  6 * 9 = 54  7 * 9 = 63  8 * 9 = 72  9 * 9 = 81  \n"
          ]
        }
      ]
    },
    {
      "cell_type": "markdown",
      "source": [
        "3.某班學生人數不詳，欲輸入每一個學生成績，當輸入 -1 時表示結束輸入，然後顯示出全班人數、及格人數、不及格人數、以及全班平均值。"
      ],
      "metadata": {
        "id": "xcVaYmv9wxTv"
      }
    },
    {
      "cell_type": "code",
      "source": [
        "count=0\n",
        "total=0\n",
        "passc=0\n",
        "failc=0\n",
        "while True:\n",
        "  score = int(input('請輸入成績:(輸入-1結束):'))\n",
        "  if score == -1:\n",
        "    break\n",
        "  total += score\n",
        "  count += 1\n",
        "  if score >= 60:\n",
        "    passc += 1\n",
        "  else:\n",
        "    failc += 16\n",
        "  avr = total / count\n",
        "print(\"全班人數:\",count)\n",
        "print(\"及格人數:\",passc)\n",
        "print(\"不及格人數:\",failc)\n",
        "print(\"全班平均值:\",avr)"
      ],
      "metadata": {
        "colab": {
          "base_uri": "https://localhost:8080/"
        },
        "id": "PaSHYxSMwwsh",
        "outputId": "93a65dd5-9f1a-4c41-aa0a-01f39e8195c6"
      },
      "execution_count": 7,
      "outputs": [
        {
          "output_type": "stream",
          "name": "stdout",
          "text": [
            "請輸入成績:(輸入-1結束):98\n",
            "請輸入成績:(輸入-1結束):52\n",
            "請輸入成績:(輸入-1結束):42\n",
            "請輸入成績:(輸入-1結束):38\n",
            "請輸入成績:(輸入-1結束):99\n",
            "請輸入成績:(輸入-1結束):100\n",
            "請輸入成績:(輸入-1結束):75\n",
            "請輸入成績:(輸入-1結束):-2\n",
            "請輸入成績:(輸入-1結束):-1\n",
            "全班人數: 8\n",
            "及格人數: 4\n",
            "不及格人數: 64\n",
            "全班平均值: 62.75\n"
          ]
        }
      ]
    },
    {
      "cell_type": "markdown",
      "source": [
        "5.印星星(二):"
      ],
      "metadata": {
        "id": "11C6wE62w3Ay"
      }
    },
    {
      "cell_type": "code",
      "source": [
        "x=4\n",
        "while x>0:\n",
        "  print(x*'*')\n",
        "  x=x-1"
      ],
      "metadata": {
        "colab": {
          "base_uri": "https://localhost:8080/"
        },
        "id": "2tV7784Rw4Ad",
        "outputId": "1cc1094c-a332-4013-df04-f1aab7fc8d7e"
      },
      "execution_count": 2,
      "outputs": [
        {
          "output_type": "stream",
          "name": "stdout",
          "text": [
            "****\n",
            "***\n",
            "**\n",
            "*\n"
          ]
        }
      ]
    },
    {
      "cell_type": "markdown",
      "source": [
        "6.印星星(三):"
      ],
      "metadata": {
        "id": "Lig3xRkuw8wU"
      }
    },
    {
      "cell_type": "code",
      "source": [
        "x=1\n",
        "while x<=9:\n",
        "  if x<=5:\n",
        "    print(' '*(5-x)+'*'*x)\n",
        "  else:\n",
        "    print(' '*(x-5)+'*'*(10-x))\n",
        "  x=x+2"
      ],
      "metadata": {
        "colab": {
          "base_uri": "https://localhost:8080/"
        },
        "id": "cwNiH015w9Of",
        "outputId": "76c88bec-9cb7-4fb0-a6f4-425c966925ef"
      },
      "execution_count": 1,
      "outputs": [
        {
          "output_type": "stream",
          "name": "stdout",
          "text": [
            "    *\n",
            "  ***\n",
            "*****\n",
            "  ***\n",
            "    *\n"
          ]
        }
      ]
    }
  ]
}