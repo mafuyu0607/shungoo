{
  "nbformat": 4,
  "nbformat_minor": 0,
  "metadata": {
    "colab": {
      "provenance": [],
      "authorship_tag": "ABX9TyORKPOqTUZfPgcGJad6FMDB",
      "include_colab_link": true
    },
    "kernelspec": {
      "name": "python3",
      "display_name": "Python 3"
    },
    "language_info": {
      "name": "python"
    }
  },
  "cells": [
    {
      "cell_type": "markdown",
      "metadata": {
        "id": "view-in-github",
        "colab_type": "text"
      },
      "source": [
        "<a href=\"https://colab.research.google.com/github/mafuyu0607/shungoo/blob/main/WEEK4%E8%AA%B2%E5%A0%82%E7%B7%B4%E7%BF%92(4_9_1).ipynb\" target=\"_parent\"><img src=\"https://colab.research.google.com/assets/colab-badge.svg\" alt=\"Open In Colab\"/></a>"
      ]
    },
    {
      "cell_type": "markdown",
      "source": [
        "1.請寫一個函式 compare_value(x, y)，比較參數 x 和 y 的大小，若 x 大於 y 則回傳 1；若 x 等於 y 則回傳 0；若 x 小於 y 則回傳 -1。"
      ],
      "metadata": {
        "id": "VdX6DLDRzAOh"
      }
    },
    {
      "cell_type": "code",
      "source": [
        "def compare_value(x,y):\n",
        "    if x>y:\n",
        "        return 1\n",
        "    elif x==y:\n",
        "        return 0\n",
        "    elif x<y:\n",
        "        return -1\n",
        "print (compare_value(3,5))\n",
        "print (compare_value(878,878))\n",
        "print (compare_value(3999,51))"
      ],
      "metadata": {
        "colab": {
          "base_uri": "https://localhost:8080/"
        },
        "id": "oV44Gz3lzCmx",
        "outputId": "b2a3a7cf-ba4d-491d-fd2f-7144bed57ab4"
      },
      "execution_count": 1,
      "outputs": [
        {
          "output_type": "stream",
          "name": "stdout",
          "text": [
            "-1\n",
            "0\n",
            "1\n"
          ]
        }
      ]
    }
  ]
}
