{
  "nbformat": 4,
  "nbformat_minor": 0,
  "metadata": {
    "colab": {
      "provenance": [],
      "authorship_tag": "ABX9TyN1T88G4dcU6rV0/4qOZ+9t",
      "include_colab_link": true
    },
    "kernelspec": {
      "name": "python3",
      "display_name": "Python 3"
    },
    "language_info": {
      "name": "python"
    }
  },
  "cells": [
    {
      "cell_type": "markdown",
      "metadata": {
        "id": "view-in-github",
        "colab_type": "text"
      },
      "source": [
        "<a href=\"https://colab.research.google.com/github/mafuyu0607/shungoo/blob/main/WEEK4%E8%AA%B2%E5%A0%82%E7%B7%B4%E7%BF%92_%EF%BC%884_11_1%2C4_11_2%EF%BC%89%EF%BC%9A.ipynb\" target=\"_parent\"><img src=\"https://colab.research.google.com/assets/colab-badge.svg\" alt=\"Open In Colab\"/></a>"
      ]
    },
    {
      "cell_type": "markdown",
      "source": [
        "1.請撰寫一個程式，呼叫一個自訂的函式 f(x, n)，計算一個整數 x 的 n 次方"
      ],
      "metadata": {
        "id": "b6iilw2Yz9ot"
      }
    },
    {
      "cell_type": "code",
      "source": [
        "def f(x,n):\n",
        "    return x**n\n",
        "print(f(85,5))"
      ],
      "metadata": {
        "id": "IJODFWOM0BRV"
      },
      "execution_count": null,
      "outputs": []
    },
    {
      "cell_type": "markdown",
      "source": [
        "2.請寫一個 is_odd(x) 函式，檢查輸入的參數 x 是不是奇數。如果 x 是奇數則回傳 Ture；若 x 不是奇數則回傳 False。"
      ],
      "metadata": {
        "id": "GadoCLWH0DMo"
      }
    },
    {
      "cell_type": "code",
      "source": [
        "def is_odd(x):\n",
        "  if x%2==0:\n",
        "    return False\n",
        "  else:\n",
        "    return True\n",
        "print(is_odd(75))"
      ],
      "metadata": {
        "id": "mX5kLrF50Fv6"
      },
      "execution_count": null,
      "outputs": []
    }
  ]
}
